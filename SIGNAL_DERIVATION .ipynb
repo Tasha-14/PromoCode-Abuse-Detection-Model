{
 "cells": [
  {
   "cell_type": "code",
   "execution_count": 1,
   "metadata": {},
   "outputs": [],
   "source": [
    "import pandas as pd\n",
    "import numpy as np\n",
    "from datetime import date\n",
    "import datetime as DT\n",
    "import seaborn as sns\n",
    "import matplotlib\n",
    "import matplotlib.pyplot as plt\n",
    "%matplotlib inline\n",
    "import warnings\n",
    "warnings.filterwarnings('ignore')\n",
    "import pickle\n",
    "import re"
   ]
  },
  {
   "cell_type": "code",
   "execution_count": 2,
   "metadata": {},
   "outputs": [
    {
     "name": "stdout",
     "output_type": "stream",
     "text": [
      "Requirement already satisfied: pyenchant in c:\\users\\tanisha16\\anaconda3\\lib\\site-packages (3.2.0)\n"
     ]
    }
   ],
   "source": [
    "!pip install pyenchant"
   ]
  },
  {
   "cell_type": "code",
   "execution_count": 3,
   "metadata": {},
   "outputs": [],
   "source": [
    "df = pd.read_csv('Input.csv')"
   ]
  },
  {
   "cell_type": "code",
   "execution_count": 4,
   "metadata": {},
   "outputs": [],
   "source": [
    "df=df.rename(columns={'Mobile':'phone_numbers'})\n",
    "df=df.rename(columns={'Reg Client IP':'ip'})"
   ]
  },
  {
   "cell_type": "code",
   "execution_count": 5,
   "metadata": {},
   "outputs": [
    {
     "data": {
      "text/html": [
       "<div>\n",
       "<style scoped>\n",
       "    .dataframe tbody tr th:only-of-type {\n",
       "        vertical-align: middle;\n",
       "    }\n",
       "\n",
       "    .dataframe tbody tr th {\n",
       "        vertical-align: top;\n",
       "    }\n",
       "\n",
       "    .dataframe thead th {\n",
       "        text-align: right;\n",
       "    }\n",
       "</style>\n",
       "<table border=\"1\" class=\"dataframe\">\n",
       "  <thead>\n",
       "    <tr style=\"text-align: right;\">\n",
       "      <th></th>\n",
       "      <th>FirstName</th>\n",
       "      <th>MiddleName</th>\n",
       "      <th>LastName</th>\n",
       "      <th>Dob</th>\n",
       "      <th>Gender</th>\n",
       "      <th>UserId</th>\n",
       "      <th>Status</th>\n",
       "      <th>Email</th>\n",
       "      <th>phone_numbers</th>\n",
       "      <th>ProgramId</th>\n",
       "      <th>ProgramName</th>\n",
       "      <th>PostalCode</th>\n",
       "      <th>BadTryCount</th>\n",
       "      <th>LastBadLoginTryTime</th>\n",
       "      <th>LastLoginTime</th>\n",
       "      <th>LastPinChangeTime</th>\n",
       "      <th>PresentLoginTime</th>\n",
       "      <th>RegisteredOn</th>\n",
       "      <th>OS Type</th>\n",
       "      <th>Reg Referral Code</th>\n",
       "      <th>Reg Referral Prefix</th>\n",
       "      <th>Ref PC AC Number</th>\n",
       "      <th>ip</th>\n",
       "      <th>Device Id</th>\n",
       "      <th>Sim Id</th>\n",
       "      <th>Meta Data</th>\n",
       "    </tr>\n",
       "  </thead>\n",
       "  <tbody>\n",
       "    <tr>\n",
       "      <th>0</th>\n",
       "      <td>Krishna</td>\n",
       "      <td>Nagnathrao</td>\n",
       "      <td>Patil</td>\n",
       "      <td>xxxx0908</td>\n",
       "      <td>U</td>\n",
       "      <td>255xx240</td>\n",
       "      <td>1</td>\n",
       "      <td>NaN</td>\n",
       "      <td>9707622140</td>\n",
       "      <td>6019</td>\n",
       "      <td>PayZapp</td>\n",
       "      <td>431717.0</td>\n",
       "      <td>0</td>\n",
       "      <td>NaN</td>\n",
       "      <td>14:44.0</td>\n",
       "      <td>NaN</td>\n",
       "      <td>35:21.0</td>\n",
       "      <td>01-11-2020 00:00</td>\n",
       "      <td>Android</td>\n",
       "      <td>NaN</td>\n",
       "      <td>NaN</td>\n",
       "      <td>NaN</td>\n",
       "      <td>49.35.221.2</td>\n",
       "      <td>anid:INE9EIU2dobAh3xITmtgvkw7mck8OVKbztVHLRW2R...</td>\n",
       "      <td>anid:INE9EIU2dobAh3xITmtgvkw7mck8OVKbztVHLRW2R...</td>\n",
       "      <td>7eba668f-d06e-492c-b008-f4b169492b1c</td>\n",
       "    </tr>\n",
       "    <tr>\n",
       "      <th>1</th>\n",
       "      <td>Jayasri</td>\n",
       "      <td>NaN</td>\n",
       "      <td>Kota</td>\n",
       "      <td>xxxx0913</td>\n",
       "      <td>U</td>\n",
       "      <td>255xx148</td>\n",
       "      <td>1</td>\n",
       "      <td>NaN</td>\n",
       "      <td>9464191867</td>\n",
       "      <td>6019</td>\n",
       "      <td>PayZapp</td>\n",
       "      <td>521001.0</td>\n",
       "      <td>0</td>\n",
       "      <td>41:12.0</td>\n",
       "      <td>42:07.0</td>\n",
       "      <td>41:56.0</td>\n",
       "      <td>59:06.0</td>\n",
       "      <td>01-11-2020 00:01</td>\n",
       "      <td>Android</td>\n",
       "      <td>NaN</td>\n",
       "      <td>NaN</td>\n",
       "      <td>NaN</td>\n",
       "      <td>117.197.223.15</td>\n",
       "      <td>anid:ZipdGGO206z2mOdhJ/PkUe6Bzp4fmjZa28MZZA3Rg...</td>\n",
       "      <td>anid:ZipdGGO206z2mOdhJ/PkUe6Bzp4fmjZa28MZZA3Rg...</td>\n",
       "      <td>d1499c8d-cbe9-48ae-b40e-963ca0898b60</td>\n",
       "    </tr>\n",
       "    <tr>\n",
       "      <th>2</th>\n",
       "      <td>Saikat</td>\n",
       "      <td>NaN</td>\n",
       "      <td>Saha</td>\n",
       "      <td>xxxx0516</td>\n",
       "      <td>M</td>\n",
       "      <td>255xx242</td>\n",
       "      <td>1</td>\n",
       "      <td>ssxxxikxxxtsxxxhxxx1996@gmail.com</td>\n",
       "      <td>9432504977</td>\n",
       "      <td>6019</td>\n",
       "      <td>PayZapp</td>\n",
       "      <td>700027.0</td>\n",
       "      <td>0</td>\n",
       "      <td>NaN</td>\n",
       "      <td>12:09.0</td>\n",
       "      <td>NaN</td>\n",
       "      <td>02:49.0</td>\n",
       "      <td>01-11-2020 00:02</td>\n",
       "      <td>Android</td>\n",
       "      <td>NaN</td>\n",
       "      <td>NaN</td>\n",
       "      <td>NaN</td>\n",
       "      <td>182.66.181.8</td>\n",
       "      <td>anid:/7NwY1Rxm5AW3kdfGXYZkfUSLYedudx0w1uynHVk9...</td>\n",
       "      <td>anid:/7NwY1Rxm5AW3kdfGXYZkfUSLYedudx0w1uynHVk9...</td>\n",
       "      <td>19a86cdf-aeaf-4030-9abc-5fff6346480c</td>\n",
       "    </tr>\n",
       "    <tr>\n",
       "      <th>3</th>\n",
       "      <td>rahul</td>\n",
       "      <td>NaN</td>\n",
       "      <td>Verma</td>\n",
       "      <td>xxxx0225</td>\n",
       "      <td>U</td>\n",
       "      <td>255xx696</td>\n",
       "      <td>1</td>\n",
       "      <td>NaN</td>\n",
       "      <td>7074212592</td>\n",
       "      <td>6019</td>\n",
       "      <td>PayZapp</td>\n",
       "      <td>184205.0</td>\n",
       "      <td>0</td>\n",
       "      <td>NaN</td>\n",
       "      <td>59:05.0</td>\n",
       "      <td>NaN</td>\n",
       "      <td>48:31.0</td>\n",
       "      <td>01-11-2020 00:03</td>\n",
       "      <td>Android</td>\n",
       "      <td>NaN</td>\n",
       "      <td>NaN</td>\n",
       "      <td>NaN</td>\n",
       "      <td>205.253.177.88</td>\n",
       "      <td>anid:cm0e88QJqfwMxBC7KOKxKdOkT3GirG8maWuBPBFol...</td>\n",
       "      <td>anid:cm0e88QJqfwMxBC7KOKxKdOkT3GirG8maWuBPBFol...</td>\n",
       "      <td>6baa013f-7566-4f8f-9c7c-89d9c5117f84</td>\n",
       "    </tr>\n",
       "    <tr>\n",
       "      <th>4</th>\n",
       "      <td>Sujit</td>\n",
       "      <td>NaN</td>\n",
       "      <td>Jha</td>\n",
       "      <td>xxxx0203</td>\n",
       "      <td>U</td>\n",
       "      <td>255xx974</td>\n",
       "      <td>1</td>\n",
       "      <td>NaN</td>\n",
       "      <td>9413346337</td>\n",
       "      <td>6019</td>\n",
       "      <td>PayZapp</td>\n",
       "      <td>NaN</td>\n",
       "      <td>0</td>\n",
       "      <td>NaN</td>\n",
       "      <td>09:27.0</td>\n",
       "      <td>NaN</td>\n",
       "      <td>58:20.0</td>\n",
       "      <td>01-11-2020 00:04</td>\n",
       "      <td>NaN</td>\n",
       "      <td>NaN</td>\n",
       "      <td>NaN</td>\n",
       "      <td>NaN</td>\n",
       "      <td>103.225.177.108</td>\n",
       "      <td>NaN</td>\n",
       "      <td>NaN</td>\n",
       "      <td>NaN</td>\n",
       "    </tr>\n",
       "  </tbody>\n",
       "</table>\n",
       "</div>"
      ],
      "text/plain": [
       "  FirstName  MiddleName LastName       Dob Gender    UserId  Status  \\\n",
       "0   Krishna  Nagnathrao    Patil  xxxx0908      U  255xx240       1   \n",
       "1   Jayasri         NaN     Kota  xxxx0913      U  255xx148       1   \n",
       "2    Saikat         NaN     Saha  xxxx0516      M  255xx242       1   \n",
       "3     rahul         NaN    Verma  xxxx0225      U  255xx696       1   \n",
       "4     Sujit         NaN      Jha  xxxx0203      U  255xx974       1   \n",
       "\n",
       "                               Email phone_numbers  ProgramId ProgramName  \\\n",
       "0                                NaN    9707622140       6019     PayZapp   \n",
       "1                                NaN    9464191867       6019     PayZapp   \n",
       "2  ssxxxikxxxtsxxxhxxx1996@gmail.com    9432504977       6019     PayZapp   \n",
       "3                                NaN    7074212592       6019     PayZapp   \n",
       "4                                NaN    9413346337       6019     PayZapp   \n",
       "\n",
       "   PostalCode  BadTryCount LastBadLoginTryTime LastLoginTime  \\\n",
       "0    431717.0            0                 NaN       14:44.0   \n",
       "1    521001.0            0             41:12.0       42:07.0   \n",
       "2    700027.0            0                 NaN       12:09.0   \n",
       "3    184205.0            0                 NaN       59:05.0   \n",
       "4         NaN            0                 NaN       09:27.0   \n",
       "\n",
       "  LastPinChangeTime PresentLoginTime      RegisteredOn  OS Type  \\\n",
       "0               NaN          35:21.0  01-11-2020 00:00  Android   \n",
       "1           41:56.0          59:06.0  01-11-2020 00:01  Android   \n",
       "2               NaN          02:49.0  01-11-2020 00:02  Android   \n",
       "3               NaN          48:31.0  01-11-2020 00:03  Android   \n",
       "4               NaN          58:20.0  01-11-2020 00:04      NaN   \n",
       "\n",
       "  Reg Referral Code Reg Referral Prefix Ref PC AC Number               ip  \\\n",
       "0               NaN                 NaN              NaN      49.35.221.2   \n",
       "1               NaN                 NaN              NaN   117.197.223.15   \n",
       "2               NaN                 NaN              NaN     182.66.181.8   \n",
       "3               NaN                 NaN              NaN   205.253.177.88   \n",
       "4               NaN                 NaN              NaN  103.225.177.108   \n",
       "\n",
       "                                           Device Id  \\\n",
       "0  anid:INE9EIU2dobAh3xITmtgvkw7mck8OVKbztVHLRW2R...   \n",
       "1  anid:ZipdGGO206z2mOdhJ/PkUe6Bzp4fmjZa28MZZA3Rg...   \n",
       "2  anid:/7NwY1Rxm5AW3kdfGXYZkfUSLYedudx0w1uynHVk9...   \n",
       "3  anid:cm0e88QJqfwMxBC7KOKxKdOkT3GirG8maWuBPBFol...   \n",
       "4                                                NaN   \n",
       "\n",
       "                                              Sim Id  \\\n",
       "0  anid:INE9EIU2dobAh3xITmtgvkw7mck8OVKbztVHLRW2R...   \n",
       "1  anid:ZipdGGO206z2mOdhJ/PkUe6Bzp4fmjZa28MZZA3Rg...   \n",
       "2  anid:/7NwY1Rxm5AW3kdfGXYZkfUSLYedudx0w1uynHVk9...   \n",
       "3  anid:cm0e88QJqfwMxBC7KOKxKdOkT3GirG8maWuBPBFol...   \n",
       "4                                                NaN   \n",
       "\n",
       "                              Meta Data  \n",
       "0  7eba668f-d06e-492c-b008-f4b169492b1c  \n",
       "1  d1499c8d-cbe9-48ae-b40e-963ca0898b60  \n",
       "2  19a86cdf-aeaf-4030-9abc-5fff6346480c  \n",
       "3  6baa013f-7566-4f8f-9c7c-89d9c5117f84  \n",
       "4                                   NaN  "
      ]
     },
     "execution_count": 5,
     "metadata": {},
     "output_type": "execute_result"
    }
   ],
   "source": [
    "pd.options.display.max_columns=100\n",
    "df.head()"
   ]
  },
  {
   "cell_type": "code",
   "execution_count": 6,
   "metadata": {},
   "outputs": [
    {
     "data": {
      "text/plain": [
       "(1485, 26)"
      ]
     },
     "execution_count": 6,
     "metadata": {},
     "output_type": "execute_result"
    }
   ],
   "source": [
    "df.shape"
   ]
  },
  {
   "cell_type": "markdown",
   "metadata": {},
   "source": [
    "### Check the nulls"
   ]
  },
  {
   "cell_type": "code",
   "execution_count": 7,
   "metadata": {},
   "outputs": [
    {
     "data": {
      "text/plain": [
       "FirstName                 0\n",
       "MiddleName             1238\n",
       "LastName                  7\n",
       "Dob                       0\n",
       "Gender                    0\n",
       "UserId                    0\n",
       "Status                    0\n",
       "Email                  1209\n",
       "phone_numbers             0\n",
       "ProgramId                 0\n",
       "ProgramName               0\n",
       "PostalCode               24\n",
       "BadTryCount               0\n",
       "LastBadLoginTryTime    1367\n",
       "LastLoginTime           415\n",
       "LastPinChangeTime      1409\n",
       "PresentLoginTime         18\n",
       "RegisteredOn              0\n",
       "OS Type                  24\n",
       "Reg Referral Code      1307\n",
       "Reg Referral Prefix    1481\n",
       "Ref PC AC Number       1312\n",
       "ip                        0\n",
       "Device Id                24\n",
       "Sim Id                   24\n",
       " Meta Data              139\n",
       "dtype: int64"
      ]
     },
     "execution_count": 7,
     "metadata": {},
     "output_type": "execute_result"
    }
   ],
   "source": [
    "df.isnull().sum()"
   ]
  },
  {
   "cell_type": "code",
   "execution_count": 8,
   "metadata": {},
   "outputs": [],
   "source": [
    "df['phone_numbers']= df['phone_numbers'].astype(str)"
   ]
  },
  {
   "cell_type": "code",
   "execution_count": 9,
   "metadata": {},
   "outputs": [
    {
     "data": {
      "text/plain": [
       "(1485, 26)"
      ]
     },
     "execution_count": 9,
     "metadata": {},
     "output_type": "execute_result"
    }
   ],
   "source": [
    "df.shape"
   ]
  },
  {
   "cell_type": "markdown",
   "metadata": {},
   "source": [
    "### Gibberish names in the dataset "
   ]
  },
  {
   "cell_type": "code",
   "execution_count": 10,
   "metadata": {},
   "outputs": [],
   "source": [
    "with open('unigrams_model.pickle', 'rb') as f:\n",
    "    unigrams = pickle.load(f)"
   ]
  },
  {
   "cell_type": "code",
   "execution_count": 11,
   "metadata": {},
   "outputs": [],
   "source": [
    "with open('bigrams_model.pickle', 'rb') as f:\n",
    "    bigrams = pickle.load(f)"
   ]
  },
  {
   "cell_type": "code",
   "execution_count": 12,
   "metadata": {},
   "outputs": [],
   "source": [
    "with open('trigrams_model.pickle', 'rb') as f:\n",
    "    trigrams = pickle.load(f)"
   ]
  },
  {
   "cell_type": "code",
   "execution_count": 13,
   "metadata": {},
   "outputs": [],
   "source": [
    "weights = [0.001, 0.01, 0.989]\n",
    "\n",
    "def strangeness(text): \n",
    "    r = 0   \n",
    "    text = '  ' + text + '\\n'  \n",
    "    for i in range(2, len(text)):\n",
    "        char = text[i]\n",
    "        context1 = text[(i-1):i]\n",
    "        context2 = text[(i-2):i]\n",
    "        num = unigrams[char] * weights[0] + bigrams[context1+char] * weights[1] + trigrams[context2+char] * weights[2] \n",
    "        den = sum(unigrams.values()) * weights[0] + unigrams[char] + weights[1] + bigrams[context1] * weights[2]\n",
    "        r = r- np.log(num / den)\n",
    "    return r / (len(text) - 2)"
   ]
  },
  {
   "cell_type": "code",
   "execution_count": 14,
   "metadata": {},
   "outputs": [],
   "source": [
    "df['FirstNameLower'] = df['FirstName'].str.lower()\n",
    "df['MiddleNameLower'] = df['MiddleName'].str.lower()\n",
    "df['LastNameLower'] = df['LastName'].str.lower()"
   ]
  },
  {
   "cell_type": "code",
   "execution_count": 15,
   "metadata": {},
   "outputs": [],
   "source": [
    "df['FullName'] = df['FirstNameLower'].fillna('') + ' ' +  df['MiddleNameLower'].fillna('') + ' ' + df['LastNameLower'].fillna('')"
   ]
  },
  {
   "cell_type": "code",
   "execution_count": 16,
   "metadata": {},
   "outputs": [],
   "source": [
    "df['FullName'] = df['FullName'].map(lambda x: re.sub(r'[^a-z ]', '', x))"
   ]
  },
  {
   "cell_type": "code",
   "execution_count": 17,
   "metadata": {},
   "outputs": [],
   "source": [
    "df['Score'] = df['FullName'].apply(lambda x:strangeness(x))"
   ]
  },
  {
   "cell_type": "code",
   "execution_count": 18,
   "metadata": {},
   "outputs": [],
   "source": [
    "#df = df.sort_values(by = 'Score')"
   ]
  },
  {
   "cell_type": "code",
   "execution_count": 19,
   "metadata": {},
   "outputs": [],
   "source": [
    "df['IsGibberish'] = np.where(df['Score'] >= 6, 1, 0)"
   ]
  },
  {
   "cell_type": "code",
   "execution_count": 20,
   "metadata": {},
   "outputs": [],
   "source": [
    "df['FirstNameLen'] = df['FirstNameLower'].astype(str).map(len)\n",
    "df['MiddleNameLen'] = df['MiddleNameLower'].astype(str).map(len)\n",
    "df['LastNameLen'] = df['LastNameLower'].astype(str).map(len)"
   ]
  },
  {
   "cell_type": "code",
   "execution_count": 21,
   "metadata": {},
   "outputs": [],
   "source": [
    "df['FirstNameLen'] = np.where(df['FirstNameLower'].isna(), 0, df['FirstNameLen'])\n",
    "df['MiddleNameLen'] = np.where(df['MiddleNameLower'].isna(), 0, df['MiddleNameLen'])\n",
    "df['LastNameLen'] = np.where(df['LastNameLower'].isna(), 0, df['LastNameLen'])\n",
    "df['TotalNameLength'] = df['FirstNameLen'] + df['MiddleNameLen'] + df['LastNameLen']"
   ]
  },
  {
   "cell_type": "code",
   "execution_count": 22,
   "metadata": {},
   "outputs": [],
   "source": [
    "#df['IsGibberish'] = np.where(df['TotalNameLength'] < 5, 1, df['IsGibberish'])"
   ]
  },
  {
   "cell_type": "code",
   "execution_count": 23,
   "metadata": {},
   "outputs": [],
   "source": [
    "import enchant\n",
    "d = enchant.Dict(\"en_US\")"
   ]
  },
  {
   "cell_type": "code",
   "execution_count": 24,
   "metadata": {},
   "outputs": [],
   "source": [
    "letter_list = ['a', 'b', 'c', 'd', 'e', 'f', 'g', 'h', 'i','j', 'k', 'l', 'm', 'n',\n",
    "              'o', 'p', 'q', 'r', 's', 't', 'u', 'v', 'w', 'x', 'y', 'z']"
   ]
  },
  {
   "cell_type": "code",
   "execution_count": 25,
   "metadata": {},
   "outputs": [],
   "source": [
    "common_indian_last_names = ['kumar', 'singh', 'khan', 'raj', 'pal', 'shah', 'sen', 'ram','gill','goel']"
   ]
  },
  {
   "cell_type": "code",
   "execution_count": 26,
   "metadata": {},
   "outputs": [],
   "source": [
    "def get_english_words_count(full_name):\n",
    "    english_word_counter = 0\n",
    "    for name in full_name:\n",
    "        is_english_word = d.check(name)\n",
    "        if is_english_word is True and name not in letter_list and name not in common_indian_last_names:\n",
    "            english_word_counter = english_word_counter + 1\n",
    "    return english_word_counter"
   ]
  },
  {
   "cell_type": "code",
   "execution_count": 27,
   "metadata": {},
   "outputs": [],
   "source": [
    "def get_english_words(full_name):\n",
    "    english_words_found = []\n",
    "    for name in full_name:\n",
    "        is_english_word = d.check(name)\n",
    "        if is_english_word is True and name not in letter_list and name not in common_indian_last_names:\n",
    "            english_words_found.append(name)\n",
    "    return english_words_found"
   ]
  },
  {
   "cell_type": "code",
   "execution_count": 28,
   "metadata": {},
   "outputs": [],
   "source": [
    "df['EnglishWordsCount'] = df['FullName'].apply(lambda x: get_english_words_count(x.split()))"
   ]
  },
  {
   "cell_type": "code",
   "execution_count": 29,
   "metadata": {},
   "outputs": [],
   "source": [
    "df['EnglishWords'] = df['FullName'].apply(lambda x: get_english_words(x.split()))"
   ]
  },
  {
   "cell_type": "code",
   "execution_count": 30,
   "metadata": {},
   "outputs": [],
   "source": [
    "df[df['EnglishWordsCount'].isin([1,2,3,4])].to_csv('names_with_english_words.csv', index = False)"
   ]
  },
  {
   "cell_type": "code",
   "execution_count": 31,
   "metadata": {},
   "outputs": [],
   "source": [
    "df['TotalWordsCount'] = df['FullName'].apply(lambda x: len(x.split()))"
   ]
  },
  {
   "cell_type": "code",
   "execution_count": 32,
   "metadata": {},
   "outputs": [],
   "source": [
    "df['PctEnglishWordsCount'] = df['EnglishWordsCount']/df['TotalWordsCount']"
   ]
  },
  {
   "cell_type": "code",
   "execution_count": 33,
   "metadata": {},
   "outputs": [],
   "source": [
    "df['Vowels'] = df.FullName.str.lower().str.count(r'[aeiou]')"
   ]
  },
  {
   "cell_type": "code",
   "execution_count": 34,
   "metadata": {},
   "outputs": [],
   "source": [
    "df['IsGibberish'] = np.where((df['Score'] > 5) & (df['EnglishWordsCount'] > 1) & (df['PctEnglishWordsCount'] >= 0.5), 1, df['IsGibberish'])\n",
    "df['IsGibberish'] = np.where((df['Score'] < 5.9) & (df['TotalWordsCount'] <= 2) & (df['Vowels'] > 0), 0, df['IsGibberish'])\n",
    "df['IsGibberish'] = np.where((df['Vowels'] == 0), 1, df['IsGibberish'])\n",
    "df['IsGibberish'] = np.where((df['EnglishWordsCount'] > 1), 1, df['IsGibberish'])"
   ]
  },
  {
   "cell_type": "code",
   "execution_count": 35,
   "metadata": {},
   "outputs": [
    {
     "data": {
      "text/html": [
       "<div>\n",
       "<style scoped>\n",
       "    .dataframe tbody tr th:only-of-type {\n",
       "        vertical-align: middle;\n",
       "    }\n",
       "\n",
       "    .dataframe tbody tr th {\n",
       "        vertical-align: top;\n",
       "    }\n",
       "\n",
       "    .dataframe thead th {\n",
       "        text-align: right;\n",
       "    }\n",
       "</style>\n",
       "<table border=\"1\" class=\"dataframe\">\n",
       "  <thead>\n",
       "    <tr style=\"text-align: right;\">\n",
       "      <th></th>\n",
       "      <th>FirstName</th>\n",
       "      <th>MiddleName</th>\n",
       "      <th>LastName</th>\n",
       "      <th>Dob</th>\n",
       "      <th>Gender</th>\n",
       "      <th>UserId</th>\n",
       "      <th>Status</th>\n",
       "      <th>Email</th>\n",
       "      <th>phone_numbers</th>\n",
       "      <th>ProgramId</th>\n",
       "      <th>ProgramName</th>\n",
       "      <th>PostalCode</th>\n",
       "      <th>BadTryCount</th>\n",
       "      <th>LastBadLoginTryTime</th>\n",
       "      <th>LastLoginTime</th>\n",
       "      <th>LastPinChangeTime</th>\n",
       "      <th>PresentLoginTime</th>\n",
       "      <th>RegisteredOn</th>\n",
       "      <th>OS Type</th>\n",
       "      <th>Reg Referral Code</th>\n",
       "      <th>Reg Referral Prefix</th>\n",
       "      <th>Ref PC AC Number</th>\n",
       "      <th>ip</th>\n",
       "      <th>Device Id</th>\n",
       "      <th>Sim Id</th>\n",
       "      <th>Meta Data</th>\n",
       "      <th>FirstNameLower</th>\n",
       "      <th>MiddleNameLower</th>\n",
       "      <th>LastNameLower</th>\n",
       "      <th>FullName</th>\n",
       "      <th>Score</th>\n",
       "      <th>IsGibberish</th>\n",
       "      <th>FirstNameLen</th>\n",
       "      <th>MiddleNameLen</th>\n",
       "      <th>LastNameLen</th>\n",
       "      <th>TotalNameLength</th>\n",
       "      <th>EnglishWordsCount</th>\n",
       "      <th>EnglishWords</th>\n",
       "      <th>TotalWordsCount</th>\n",
       "      <th>PctEnglishWordsCount</th>\n",
       "      <th>Vowels</th>\n",
       "    </tr>\n",
       "  </thead>\n",
       "  <tbody>\n",
       "    <tr>\n",
       "      <th>0</th>\n",
       "      <td>Krishna</td>\n",
       "      <td>Nagnathrao</td>\n",
       "      <td>Patil</td>\n",
       "      <td>xxxx0908</td>\n",
       "      <td>U</td>\n",
       "      <td>255xx240</td>\n",
       "      <td>1</td>\n",
       "      <td>NaN</td>\n",
       "      <td>9707622140</td>\n",
       "      <td>6019</td>\n",
       "      <td>PayZapp</td>\n",
       "      <td>431717.0</td>\n",
       "      <td>0</td>\n",
       "      <td>NaN</td>\n",
       "      <td>14:44.0</td>\n",
       "      <td>NaN</td>\n",
       "      <td>35:21.0</td>\n",
       "      <td>01-11-2020 00:00</td>\n",
       "      <td>Android</td>\n",
       "      <td>NaN</td>\n",
       "      <td>NaN</td>\n",
       "      <td>NaN</td>\n",
       "      <td>49.35.221.2</td>\n",
       "      <td>anid:INE9EIU2dobAh3xITmtgvkw7mck8OVKbztVHLRW2R...</td>\n",
       "      <td>anid:INE9EIU2dobAh3xITmtgvkw7mck8OVKbztVHLRW2R...</td>\n",
       "      <td>7eba668f-d06e-492c-b008-f4b169492b1c</td>\n",
       "      <td>krishna</td>\n",
       "      <td>nagnathrao</td>\n",
       "      <td>patil</td>\n",
       "      <td>krishna nagnathrao patil</td>\n",
       "      <td>4.857123</td>\n",
       "      <td>0</td>\n",
       "      <td>7</td>\n",
       "      <td>10</td>\n",
       "      <td>5</td>\n",
       "      <td>22</td>\n",
       "      <td>0</td>\n",
       "      <td>[]</td>\n",
       "      <td>3</td>\n",
       "      <td>0.0</td>\n",
       "      <td>8</td>\n",
       "    </tr>\n",
       "    <tr>\n",
       "      <th>1</th>\n",
       "      <td>Jayasri</td>\n",
       "      <td>NaN</td>\n",
       "      <td>Kota</td>\n",
       "      <td>xxxx0913</td>\n",
       "      <td>U</td>\n",
       "      <td>255xx148</td>\n",
       "      <td>1</td>\n",
       "      <td>NaN</td>\n",
       "      <td>9464191867</td>\n",
       "      <td>6019</td>\n",
       "      <td>PayZapp</td>\n",
       "      <td>521001.0</td>\n",
       "      <td>0</td>\n",
       "      <td>41:12.0</td>\n",
       "      <td>42:07.0</td>\n",
       "      <td>41:56.0</td>\n",
       "      <td>59:06.0</td>\n",
       "      <td>01-11-2020 00:01</td>\n",
       "      <td>Android</td>\n",
       "      <td>NaN</td>\n",
       "      <td>NaN</td>\n",
       "      <td>NaN</td>\n",
       "      <td>117.197.223.15</td>\n",
       "      <td>anid:ZipdGGO206z2mOdhJ/PkUe6Bzp4fmjZa28MZZA3Rg...</td>\n",
       "      <td>anid:ZipdGGO206z2mOdhJ/PkUe6Bzp4fmjZa28MZZA3Rg...</td>\n",
       "      <td>d1499c8d-cbe9-48ae-b40e-963ca0898b60</td>\n",
       "      <td>jayasri</td>\n",
       "      <td>NaN</td>\n",
       "      <td>kota</td>\n",
       "      <td>jayasri  kota</td>\n",
       "      <td>5.010674</td>\n",
       "      <td>0</td>\n",
       "      <td>7</td>\n",
       "      <td>0</td>\n",
       "      <td>4</td>\n",
       "      <td>11</td>\n",
       "      <td>0</td>\n",
       "      <td>[]</td>\n",
       "      <td>2</td>\n",
       "      <td>0.0</td>\n",
       "      <td>5</td>\n",
       "    </tr>\n",
       "    <tr>\n",
       "      <th>2</th>\n",
       "      <td>Saikat</td>\n",
       "      <td>NaN</td>\n",
       "      <td>Saha</td>\n",
       "      <td>xxxx0516</td>\n",
       "      <td>M</td>\n",
       "      <td>255xx242</td>\n",
       "      <td>1</td>\n",
       "      <td>ssxxxikxxxtsxxxhxxx1996@gmail.com</td>\n",
       "      <td>9432504977</td>\n",
       "      <td>6019</td>\n",
       "      <td>PayZapp</td>\n",
       "      <td>700027.0</td>\n",
       "      <td>0</td>\n",
       "      <td>NaN</td>\n",
       "      <td>12:09.0</td>\n",
       "      <td>NaN</td>\n",
       "      <td>02:49.0</td>\n",
       "      <td>01-11-2020 00:02</td>\n",
       "      <td>Android</td>\n",
       "      <td>NaN</td>\n",
       "      <td>NaN</td>\n",
       "      <td>NaN</td>\n",
       "      <td>182.66.181.8</td>\n",
       "      <td>anid:/7NwY1Rxm5AW3kdfGXYZkfUSLYedudx0w1uynHVk9...</td>\n",
       "      <td>anid:/7NwY1Rxm5AW3kdfGXYZkfUSLYedudx0w1uynHVk9...</td>\n",
       "      <td>19a86cdf-aeaf-4030-9abc-5fff6346480c</td>\n",
       "      <td>saikat</td>\n",
       "      <td>NaN</td>\n",
       "      <td>saha</td>\n",
       "      <td>saikat  saha</td>\n",
       "      <td>4.904884</td>\n",
       "      <td>0</td>\n",
       "      <td>6</td>\n",
       "      <td>0</td>\n",
       "      <td>4</td>\n",
       "      <td>10</td>\n",
       "      <td>0</td>\n",
       "      <td>[]</td>\n",
       "      <td>2</td>\n",
       "      <td>0.0</td>\n",
       "      <td>5</td>\n",
       "    </tr>\n",
       "    <tr>\n",
       "      <th>3</th>\n",
       "      <td>rahul</td>\n",
       "      <td>NaN</td>\n",
       "      <td>Verma</td>\n",
       "      <td>xxxx0225</td>\n",
       "      <td>U</td>\n",
       "      <td>255xx696</td>\n",
       "      <td>1</td>\n",
       "      <td>NaN</td>\n",
       "      <td>7074212592</td>\n",
       "      <td>6019</td>\n",
       "      <td>PayZapp</td>\n",
       "      <td>184205.0</td>\n",
       "      <td>0</td>\n",
       "      <td>NaN</td>\n",
       "      <td>59:05.0</td>\n",
       "      <td>NaN</td>\n",
       "      <td>48:31.0</td>\n",
       "      <td>01-11-2020 00:03</td>\n",
       "      <td>Android</td>\n",
       "      <td>NaN</td>\n",
       "      <td>NaN</td>\n",
       "      <td>NaN</td>\n",
       "      <td>205.253.177.88</td>\n",
       "      <td>anid:cm0e88QJqfwMxBC7KOKxKdOkT3GirG8maWuBPBFol...</td>\n",
       "      <td>anid:cm0e88QJqfwMxBC7KOKxKdOkT3GirG8maWuBPBFol...</td>\n",
       "      <td>6baa013f-7566-4f8f-9c7c-89d9c5117f84</td>\n",
       "      <td>rahul</td>\n",
       "      <td>NaN</td>\n",
       "      <td>verma</td>\n",
       "      <td>rahul  verma</td>\n",
       "      <td>4.695897</td>\n",
       "      <td>0</td>\n",
       "      <td>5</td>\n",
       "      <td>0</td>\n",
       "      <td>5</td>\n",
       "      <td>10</td>\n",
       "      <td>0</td>\n",
       "      <td>[]</td>\n",
       "      <td>2</td>\n",
       "      <td>0.0</td>\n",
       "      <td>4</td>\n",
       "    </tr>\n",
       "    <tr>\n",
       "      <th>4</th>\n",
       "      <td>Sujit</td>\n",
       "      <td>NaN</td>\n",
       "      <td>Jha</td>\n",
       "      <td>xxxx0203</td>\n",
       "      <td>U</td>\n",
       "      <td>255xx974</td>\n",
       "      <td>1</td>\n",
       "      <td>NaN</td>\n",
       "      <td>9413346337</td>\n",
       "      <td>6019</td>\n",
       "      <td>PayZapp</td>\n",
       "      <td>NaN</td>\n",
       "      <td>0</td>\n",
       "      <td>NaN</td>\n",
       "      <td>09:27.0</td>\n",
       "      <td>NaN</td>\n",
       "      <td>58:20.0</td>\n",
       "      <td>01-11-2020 00:04</td>\n",
       "      <td>NaN</td>\n",
       "      <td>NaN</td>\n",
       "      <td>NaN</td>\n",
       "      <td>NaN</td>\n",
       "      <td>103.225.177.108</td>\n",
       "      <td>NaN</td>\n",
       "      <td>NaN</td>\n",
       "      <td>NaN</td>\n",
       "      <td>sujit</td>\n",
       "      <td>NaN</td>\n",
       "      <td>jha</td>\n",
       "      <td>sujit  jha</td>\n",
       "      <td>5.024591</td>\n",
       "      <td>0</td>\n",
       "      <td>5</td>\n",
       "      <td>0</td>\n",
       "      <td>3</td>\n",
       "      <td>8</td>\n",
       "      <td>0</td>\n",
       "      <td>[]</td>\n",
       "      <td>2</td>\n",
       "      <td>0.0</td>\n",
       "      <td>3</td>\n",
       "    </tr>\n",
       "  </tbody>\n",
       "</table>\n",
       "</div>"
      ],
      "text/plain": [
       "  FirstName  MiddleName LastName       Dob Gender    UserId  Status  \\\n",
       "0   Krishna  Nagnathrao    Patil  xxxx0908      U  255xx240       1   \n",
       "1   Jayasri         NaN     Kota  xxxx0913      U  255xx148       1   \n",
       "2    Saikat         NaN     Saha  xxxx0516      M  255xx242       1   \n",
       "3     rahul         NaN    Verma  xxxx0225      U  255xx696       1   \n",
       "4     Sujit         NaN      Jha  xxxx0203      U  255xx974       1   \n",
       "\n",
       "                               Email phone_numbers  ProgramId ProgramName  \\\n",
       "0                                NaN    9707622140       6019     PayZapp   \n",
       "1                                NaN    9464191867       6019     PayZapp   \n",
       "2  ssxxxikxxxtsxxxhxxx1996@gmail.com    9432504977       6019     PayZapp   \n",
       "3                                NaN    7074212592       6019     PayZapp   \n",
       "4                                NaN    9413346337       6019     PayZapp   \n",
       "\n",
       "   PostalCode  BadTryCount LastBadLoginTryTime LastLoginTime  \\\n",
       "0    431717.0            0                 NaN       14:44.0   \n",
       "1    521001.0            0             41:12.0       42:07.0   \n",
       "2    700027.0            0                 NaN       12:09.0   \n",
       "3    184205.0            0                 NaN       59:05.0   \n",
       "4         NaN            0                 NaN       09:27.0   \n",
       "\n",
       "  LastPinChangeTime PresentLoginTime      RegisteredOn  OS Type  \\\n",
       "0               NaN          35:21.0  01-11-2020 00:00  Android   \n",
       "1           41:56.0          59:06.0  01-11-2020 00:01  Android   \n",
       "2               NaN          02:49.0  01-11-2020 00:02  Android   \n",
       "3               NaN          48:31.0  01-11-2020 00:03  Android   \n",
       "4               NaN          58:20.0  01-11-2020 00:04      NaN   \n",
       "\n",
       "  Reg Referral Code Reg Referral Prefix Ref PC AC Number               ip  \\\n",
       "0               NaN                 NaN              NaN      49.35.221.2   \n",
       "1               NaN                 NaN              NaN   117.197.223.15   \n",
       "2               NaN                 NaN              NaN     182.66.181.8   \n",
       "3               NaN                 NaN              NaN   205.253.177.88   \n",
       "4               NaN                 NaN              NaN  103.225.177.108   \n",
       "\n",
       "                                           Device Id  \\\n",
       "0  anid:INE9EIU2dobAh3xITmtgvkw7mck8OVKbztVHLRW2R...   \n",
       "1  anid:ZipdGGO206z2mOdhJ/PkUe6Bzp4fmjZa28MZZA3Rg...   \n",
       "2  anid:/7NwY1Rxm5AW3kdfGXYZkfUSLYedudx0w1uynHVk9...   \n",
       "3  anid:cm0e88QJqfwMxBC7KOKxKdOkT3GirG8maWuBPBFol...   \n",
       "4                                                NaN   \n",
       "\n",
       "                                              Sim Id  \\\n",
       "0  anid:INE9EIU2dobAh3xITmtgvkw7mck8OVKbztVHLRW2R...   \n",
       "1  anid:ZipdGGO206z2mOdhJ/PkUe6Bzp4fmjZa28MZZA3Rg...   \n",
       "2  anid:/7NwY1Rxm5AW3kdfGXYZkfUSLYedudx0w1uynHVk9...   \n",
       "3  anid:cm0e88QJqfwMxBC7KOKxKdOkT3GirG8maWuBPBFol...   \n",
       "4                                                NaN   \n",
       "\n",
       "                              Meta Data FirstNameLower MiddleNameLower  \\\n",
       "0  7eba668f-d06e-492c-b008-f4b169492b1c        krishna      nagnathrao   \n",
       "1  d1499c8d-cbe9-48ae-b40e-963ca0898b60        jayasri             NaN   \n",
       "2  19a86cdf-aeaf-4030-9abc-5fff6346480c         saikat             NaN   \n",
       "3  6baa013f-7566-4f8f-9c7c-89d9c5117f84          rahul             NaN   \n",
       "4                                   NaN          sujit             NaN   \n",
       "\n",
       "  LastNameLower                  FullName     Score  IsGibberish  \\\n",
       "0         patil  krishna nagnathrao patil  4.857123            0   \n",
       "1          kota             jayasri  kota  5.010674            0   \n",
       "2          saha              saikat  saha  4.904884            0   \n",
       "3         verma              rahul  verma  4.695897            0   \n",
       "4           jha                sujit  jha  5.024591            0   \n",
       "\n",
       "   FirstNameLen  MiddleNameLen  LastNameLen  TotalNameLength  \\\n",
       "0             7             10            5               22   \n",
       "1             7              0            4               11   \n",
       "2             6              0            4               10   \n",
       "3             5              0            5               10   \n",
       "4             5              0            3                8   \n",
       "\n",
       "   EnglishWordsCount EnglishWords  TotalWordsCount  PctEnglishWordsCount  \\\n",
       "0                  0           []                3                   0.0   \n",
       "1                  0           []                2                   0.0   \n",
       "2                  0           []                2                   0.0   \n",
       "3                  0           []                2                   0.0   \n",
       "4                  0           []                2                   0.0   \n",
       "\n",
       "   Vowels  \n",
       "0       8  \n",
       "1       5  \n",
       "2       5  \n",
       "3       4  \n",
       "4       3  "
      ]
     },
     "execution_count": 35,
     "metadata": {},
     "output_type": "execute_result"
    }
   ],
   "source": [
    "df.head()"
   ]
  },
  {
   "cell_type": "markdown",
   "metadata": {},
   "source": [
    "### Registrations with Same Name "
   ]
  },
  {
   "cell_type": "code",
   "execution_count": 36,
   "metadata": {},
   "outputs": [],
   "source": [
    "a=df.groupby(['FullName'])['phone_numbers'].count()\n",
    "NameRep = pd.DataFrame(data=a)\n",
    "NameRep=NameRep.rename(columns={'phone_numbers':'MultipleSameNameReg'})\n",
    "df = pd.merge(df,NameRep, how ='left', on ='FullName') "
   ]
  },
  {
   "cell_type": "markdown",
   "metadata": {},
   "source": [
    "### DOB (isbday flag)"
   ]
  },
  {
   "cell_type": "code",
   "execution_count": 37,
   "metadata": {},
   "outputs": [],
   "source": [
    "df['RegisteredOn']= pd.to_datetime(df['RegisteredOn'], dayfirst=True)"
   ]
  },
  {
   "cell_type": "code",
   "execution_count": 38,
   "metadata": {},
   "outputs": [],
   "source": [
    "df['RegMonth'] = df['RegisteredOn'].dt.month"
   ]
  },
  {
   "cell_type": "code",
   "execution_count": 39,
   "metadata": {},
   "outputs": [],
   "source": [
    "df['RegDay']= df['RegisteredOn'].astype(str).str[5:10]"
   ]
  },
  {
   "cell_type": "code",
   "execution_count": 40,
   "metadata": {},
   "outputs": [],
   "source": [
    "df['RegDay']=df['RegDay'].str.replace('-', \"\")"
   ]
  },
  {
   "cell_type": "code",
   "execution_count": 41,
   "metadata": {},
   "outputs": [],
   "source": [
    "df['DobCleaned'] = df['Dob'].str.extract('(\\d+)')"
   ]
  },
  {
   "cell_type": "code",
   "execution_count": 42,
   "metadata": {},
   "outputs": [],
   "source": [
    "df['DobMonth'] = df['DobCleaned'].str[:2]\n",
    "df['DobMonth'] = df['DobMonth'].astype(int)"
   ]
  },
  {
   "cell_type": "code",
   "execution_count": 43,
   "metadata": {},
   "outputs": [],
   "source": [
    "df['DobDay'] = df['DobCleaned']"
   ]
  },
  {
   "cell_type": "code",
   "execution_count": 44,
   "metadata": {},
   "outputs": [],
   "source": [
    "#df['DobDay'] = df['DobCleaned'].str[2:]"
   ]
  },
  {
   "cell_type": "code",
   "execution_count": 45,
   "metadata": {},
   "outputs": [],
   "source": [
    "df['IsBdayFlag(Month)'] = np.where(df['DobMonth']==df['RegMonth'],'flag','')"
   ]
  },
  {
   "cell_type": "code",
   "execution_count": 46,
   "metadata": {},
   "outputs": [],
   "source": [
    "df['IsBdayFlag(Day)'] = np.where(df['DobDay']==df['RegDay'],'flag','')"
   ]
  },
  {
   "cell_type": "markdown",
   "metadata": {},
   "source": [
    "### Computing the Total Login Time"
   ]
  },
  {
   "cell_type": "code",
   "execution_count": 47,
   "metadata": {},
   "outputs": [],
   "source": [
    "df['RegisteredOn']= pd.to_datetime(df['RegisteredOn'], dayfirst=True)"
   ]
  },
  {
   "cell_type": "code",
   "execution_count": 48,
   "metadata": {},
   "outputs": [],
   "source": [
    "df['LastLoginTime(sec)']=df['LastLoginTime'].str.extract(':(\\S\\S)')"
   ]
  },
  {
   "cell_type": "code",
   "execution_count": 49,
   "metadata": {},
   "outputs": [],
   "source": [
    "df['LastLoginTime(hr)'] = df['LastLoginTime'].str.extract('([^.]+$)')\n",
    "df['LastLoginTime(hr)']=df['LastLoginTime(hr)'].astype(float)\n"
   ]
  },
  {
   "cell_type": "code",
   "execution_count": 50,
   "metadata": {},
   "outputs": [],
   "source": [
    "df['LastLoginTime(min)'] =df['LastLoginTime'].str.extract('(\\S\\S)')\n",
    "df['LastLoginTime(min)']=df['LastLoginTime(min)'].astype(float)\n"
   ]
  },
  {
   "cell_type": "code",
   "execution_count": 51,
   "metadata": {},
   "outputs": [],
   "source": [
    "df['RegisteredOn(Hour)']=df['RegisteredOn'].dt.hour\n",
    "df['RegisteredOn(Hour)']=df['RegisteredOn(Hour)'].astype(float)\n",
    "df['RegisteredOn(Min)']=df['RegisteredOn'].dt.minute\n",
    "df['RegisteredOn(Min)']=df['RegisteredOn(Min)'].astype(float)"
   ]
  },
  {
   "cell_type": "code",
   "execution_count": 52,
   "metadata": {},
   "outputs": [],
   "source": [
    "df['LoginTimeInHrs'] = df['RegisteredOn(Hour)']-df['LastLoginTime(hr)']\n",
    "df['LoginTimeInMin'] = df['RegisteredOn(Min)']-df['LastLoginTime(min)']"
   ]
  },
  {
   "cell_type": "markdown",
   "metadata": {},
   "source": [
    "### Average Login Time"
   ]
  },
  {
   "cell_type": "code",
   "execution_count": 53,
   "metadata": {},
   "outputs": [],
   "source": [
    "df['AverageLoginTime(Hours)']=df['LoginTimeInHrs'].mean()\n",
    "df['AverageLoginTime(Min)']=df['LoginTimeInMin'].mean()"
   ]
  },
  {
   "cell_type": "code",
   "execution_count": 54,
   "metadata": {},
   "outputs": [],
   "source": [
    "#df['LastPinChangeTime'] = pd.to_datetime(df['LastPinChangeTime'])\n",
    "#df['LastPinChangeTime'].head(20)"
   ]
  },
  {
   "cell_type": "code",
   "execution_count": 55,
   "metadata": {},
   "outputs": [],
   "source": [
    "#df['AveragePinChangeTime']=df['LastPinChangeTime'].mean()\n",
    "#df['AveragePinChangeTime'].head()\n",
    "#cant perform an average on the timestamp"
   ]
  },
  {
   "cell_type": "code",
   "execution_count": 56,
   "metadata": {},
   "outputs": [],
   "source": [
    "#df['TimeTakenMoreThanAvgPinChangeTime'] = df['AveragePinChangeTime']- df['LastPinChangeTime']\n",
    "#df['TimeTakenMoreThanAvgPinChangeTime']=df['TimeTakenMoreThanAvgPinChangeTime'].dt.total_seconds()\n"
   ]
  },
  {
   "cell_type": "markdown",
   "metadata": {},
   "source": [
    "###  Deviation From Avg Login Time"
   ]
  },
  {
   "cell_type": "code",
   "execution_count": 57,
   "metadata": {},
   "outputs": [],
   "source": [
    "df['DeviationFromAvgLoginTime(Hrs)'] = df['LoginTimeInHrs']-df['AverageLoginTime(Hours)'] "
   ]
  },
  {
   "cell_type": "code",
   "execution_count": 58,
   "metadata": {},
   "outputs": [],
   "source": [
    "df['DeviationFromAvgLoginTime(Min)'] = df['LoginTimeInMin']-df['AverageLoginTime(Min)']"
   ]
  },
  {
   "cell_type": "code",
   "execution_count": 59,
   "metadata": {},
   "outputs": [],
   "source": [
    "df['DeviationLoginTime-Hr']= np.where(df['DeviationFromAvgLoginTime(Hrs)']>0,'flag','')"
   ]
  },
  {
   "cell_type": "code",
   "execution_count": 60,
   "metadata": {},
   "outputs": [],
   "source": [
    "df['DeviationLoginTime-Min']= np.where(df['DeviationFromAvgLoginTime(Min)']>0,'flag','')"
   ]
  },
  {
   "cell_type": "code",
   "execution_count": 61,
   "metadata": {},
   "outputs": [],
   "source": [
    "#DOB not disclosed\n",
    "#hence we dont compute the age of the user"
   ]
  },
  {
   "cell_type": "code",
   "execution_count": 62,
   "metadata": {},
   "outputs": [],
   "source": [
    "#now= pd.Timestamp('now')\n",
    "#df['Dob'] = pd.to_datetime(df['Dob'])\n",
    "#df['Dob'] = df['Dob'].where(df['Dob'] < now, df['Dob'] -  np.timedelta64(100, 'Y'))\n",
    "#df['Age'] = (now - df['Dob']).astype('<m8[Y]') "
   ]
  },
  {
   "cell_type": "markdown",
   "metadata": {},
   "source": [
    "### RegisteredUsersPerEmailId"
   ]
  },
  {
   "cell_type": "code",
   "execution_count": 63,
   "metadata": {},
   "outputs": [],
   "source": [
    "new = df.groupby(['Email'])['phone_numbers'].count()\n",
    "RegisteredUsersPerEmail = pd.DataFrame(data=new)\n",
    "RegisteredUsersPerEmail=RegisteredUsersPerEmail.rename(columns={'phone_numbers':'UsersPerEmail'})\n",
    "df = pd.merge(df, RegisteredUsersPerEmail, how ='outer', on ='Email') "
   ]
  },
  {
   "cell_type": "code",
   "execution_count": 64,
   "metadata": {},
   "outputs": [
    {
     "data": {
      "text/html": [
       "<div>\n",
       "<style scoped>\n",
       "    .dataframe tbody tr th:only-of-type {\n",
       "        vertical-align: middle;\n",
       "    }\n",
       "\n",
       "    .dataframe tbody tr th {\n",
       "        vertical-align: top;\n",
       "    }\n",
       "\n",
       "    .dataframe thead th {\n",
       "        text-align: right;\n",
       "    }\n",
       "</style>\n",
       "<table border=\"1\" class=\"dataframe\">\n",
       "  <thead>\n",
       "    <tr style=\"text-align: right;\">\n",
       "      <th></th>\n",
       "      <th>FirstName</th>\n",
       "      <th>MiddleName</th>\n",
       "      <th>LastName</th>\n",
       "      <th>Dob</th>\n",
       "      <th>Gender</th>\n",
       "      <th>UserId</th>\n",
       "      <th>Status</th>\n",
       "      <th>Email</th>\n",
       "      <th>phone_numbers</th>\n",
       "      <th>ProgramId</th>\n",
       "      <th>ProgramName</th>\n",
       "      <th>PostalCode</th>\n",
       "      <th>BadTryCount</th>\n",
       "      <th>LastBadLoginTryTime</th>\n",
       "      <th>LastLoginTime</th>\n",
       "      <th>LastPinChangeTime</th>\n",
       "      <th>PresentLoginTime</th>\n",
       "      <th>RegisteredOn</th>\n",
       "      <th>OS Type</th>\n",
       "      <th>Reg Referral Code</th>\n",
       "      <th>Reg Referral Prefix</th>\n",
       "      <th>Ref PC AC Number</th>\n",
       "      <th>ip</th>\n",
       "      <th>Device Id</th>\n",
       "      <th>Sim Id</th>\n",
       "      <th>Meta Data</th>\n",
       "      <th>FirstNameLower</th>\n",
       "      <th>MiddleNameLower</th>\n",
       "      <th>LastNameLower</th>\n",
       "      <th>FullName</th>\n",
       "      <th>Score</th>\n",
       "      <th>IsGibberish</th>\n",
       "      <th>FirstNameLen</th>\n",
       "      <th>MiddleNameLen</th>\n",
       "      <th>LastNameLen</th>\n",
       "      <th>TotalNameLength</th>\n",
       "      <th>EnglishWordsCount</th>\n",
       "      <th>EnglishWords</th>\n",
       "      <th>TotalWordsCount</th>\n",
       "      <th>PctEnglishWordsCount</th>\n",
       "      <th>Vowels</th>\n",
       "      <th>MultipleSameNameReg</th>\n",
       "      <th>RegMonth</th>\n",
       "      <th>RegDay</th>\n",
       "      <th>DobCleaned</th>\n",
       "      <th>DobMonth</th>\n",
       "      <th>DobDay</th>\n",
       "      <th>IsBdayFlag(Month)</th>\n",
       "      <th>IsBdayFlag(Day)</th>\n",
       "      <th>LastLoginTime(sec)</th>\n",
       "      <th>LastLoginTime(hr)</th>\n",
       "      <th>LastLoginTime(min)</th>\n",
       "      <th>RegisteredOn(Hour)</th>\n",
       "      <th>RegisteredOn(Min)</th>\n",
       "      <th>LoginTimeInHrs</th>\n",
       "      <th>LoginTimeInMin</th>\n",
       "      <th>AverageLoginTime(Hours)</th>\n",
       "      <th>AverageLoginTime(Min)</th>\n",
       "      <th>DeviationFromAvgLoginTime(Hrs)</th>\n",
       "      <th>DeviationFromAvgLoginTime(Min)</th>\n",
       "      <th>DeviationLoginTime-Hr</th>\n",
       "      <th>DeviationLoginTime-Min</th>\n",
       "      <th>UsersPerEmail</th>\n",
       "    </tr>\n",
       "  </thead>\n",
       "  <tbody>\n",
       "    <tr>\n",
       "      <th>0</th>\n",
       "      <td>Krishna</td>\n",
       "      <td>Nagnathrao</td>\n",
       "      <td>Patil</td>\n",
       "      <td>xxxx0908</td>\n",
       "      <td>U</td>\n",
       "      <td>255xx240</td>\n",
       "      <td>1</td>\n",
       "      <td>NaN</td>\n",
       "      <td>9707622140</td>\n",
       "      <td>6019</td>\n",
       "      <td>PayZapp</td>\n",
       "      <td>431717.0</td>\n",
       "      <td>0</td>\n",
       "      <td>NaN</td>\n",
       "      <td>14:44.0</td>\n",
       "      <td>NaN</td>\n",
       "      <td>35:21.0</td>\n",
       "      <td>2020-11-01 00:00:00</td>\n",
       "      <td>Android</td>\n",
       "      <td>NaN</td>\n",
       "      <td>NaN</td>\n",
       "      <td>NaN</td>\n",
       "      <td>49.35.221.2</td>\n",
       "      <td>anid:INE9EIU2dobAh3xITmtgvkw7mck8OVKbztVHLRW2R...</td>\n",
       "      <td>anid:INE9EIU2dobAh3xITmtgvkw7mck8OVKbztVHLRW2R...</td>\n",
       "      <td>7eba668f-d06e-492c-b008-f4b169492b1c</td>\n",
       "      <td>krishna</td>\n",
       "      <td>nagnathrao</td>\n",
       "      <td>patil</td>\n",
       "      <td>krishna nagnathrao patil</td>\n",
       "      <td>4.857123</td>\n",
       "      <td>0</td>\n",
       "      <td>7</td>\n",
       "      <td>10</td>\n",
       "      <td>5</td>\n",
       "      <td>22</td>\n",
       "      <td>0</td>\n",
       "      <td>[]</td>\n",
       "      <td>3</td>\n",
       "      <td>0.0</td>\n",
       "      <td>8</td>\n",
       "      <td>1</td>\n",
       "      <td>11</td>\n",
       "      <td>1101</td>\n",
       "      <td>0908</td>\n",
       "      <td>9</td>\n",
       "      <td>0908</td>\n",
       "      <td></td>\n",
       "      <td></td>\n",
       "      <td>44</td>\n",
       "      <td>0.0</td>\n",
       "      <td>14.0</td>\n",
       "      <td>0.0</td>\n",
       "      <td>0.0</td>\n",
       "      <td>0.0</td>\n",
       "      <td>-14.0</td>\n",
       "      <td>13.917757</td>\n",
       "      <td>0.249533</td>\n",
       "      <td>-13.917757</td>\n",
       "      <td>-14.249533</td>\n",
       "      <td></td>\n",
       "      <td></td>\n",
       "      <td>NaN</td>\n",
       "    </tr>\n",
       "    <tr>\n",
       "      <th>1</th>\n",
       "      <td>Jayasri</td>\n",
       "      <td>NaN</td>\n",
       "      <td>Kota</td>\n",
       "      <td>xxxx0913</td>\n",
       "      <td>U</td>\n",
       "      <td>255xx148</td>\n",
       "      <td>1</td>\n",
       "      <td>NaN</td>\n",
       "      <td>9464191867</td>\n",
       "      <td>6019</td>\n",
       "      <td>PayZapp</td>\n",
       "      <td>521001.0</td>\n",
       "      <td>0</td>\n",
       "      <td>41:12.0</td>\n",
       "      <td>42:07.0</td>\n",
       "      <td>41:56.0</td>\n",
       "      <td>59:06.0</td>\n",
       "      <td>2020-11-01 00:01:00</td>\n",
       "      <td>Android</td>\n",
       "      <td>NaN</td>\n",
       "      <td>NaN</td>\n",
       "      <td>NaN</td>\n",
       "      <td>117.197.223.15</td>\n",
       "      <td>anid:ZipdGGO206z2mOdhJ/PkUe6Bzp4fmjZa28MZZA3Rg...</td>\n",
       "      <td>anid:ZipdGGO206z2mOdhJ/PkUe6Bzp4fmjZa28MZZA3Rg...</td>\n",
       "      <td>d1499c8d-cbe9-48ae-b40e-963ca0898b60</td>\n",
       "      <td>jayasri</td>\n",
       "      <td>NaN</td>\n",
       "      <td>kota</td>\n",
       "      <td>jayasri  kota</td>\n",
       "      <td>5.010674</td>\n",
       "      <td>0</td>\n",
       "      <td>7</td>\n",
       "      <td>0</td>\n",
       "      <td>4</td>\n",
       "      <td>11</td>\n",
       "      <td>0</td>\n",
       "      <td>[]</td>\n",
       "      <td>2</td>\n",
       "      <td>0.0</td>\n",
       "      <td>5</td>\n",
       "      <td>1</td>\n",
       "      <td>11</td>\n",
       "      <td>1101</td>\n",
       "      <td>0913</td>\n",
       "      <td>9</td>\n",
       "      <td>0913</td>\n",
       "      <td></td>\n",
       "      <td></td>\n",
       "      <td>07</td>\n",
       "      <td>0.0</td>\n",
       "      <td>42.0</td>\n",
       "      <td>0.0</td>\n",
       "      <td>1.0</td>\n",
       "      <td>0.0</td>\n",
       "      <td>-41.0</td>\n",
       "      <td>13.917757</td>\n",
       "      <td>0.249533</td>\n",
       "      <td>-13.917757</td>\n",
       "      <td>-41.249533</td>\n",
       "      <td></td>\n",
       "      <td></td>\n",
       "      <td>NaN</td>\n",
       "    </tr>\n",
       "    <tr>\n",
       "      <th>2</th>\n",
       "      <td>rahul</td>\n",
       "      <td>NaN</td>\n",
       "      <td>Verma</td>\n",
       "      <td>xxxx0225</td>\n",
       "      <td>U</td>\n",
       "      <td>255xx696</td>\n",
       "      <td>1</td>\n",
       "      <td>NaN</td>\n",
       "      <td>7074212592</td>\n",
       "      <td>6019</td>\n",
       "      <td>PayZapp</td>\n",
       "      <td>184205.0</td>\n",
       "      <td>0</td>\n",
       "      <td>NaN</td>\n",
       "      <td>59:05.0</td>\n",
       "      <td>NaN</td>\n",
       "      <td>48:31.0</td>\n",
       "      <td>2020-11-01 00:03:00</td>\n",
       "      <td>Android</td>\n",
       "      <td>NaN</td>\n",
       "      <td>NaN</td>\n",
       "      <td>NaN</td>\n",
       "      <td>205.253.177.88</td>\n",
       "      <td>anid:cm0e88QJqfwMxBC7KOKxKdOkT3GirG8maWuBPBFol...</td>\n",
       "      <td>anid:cm0e88QJqfwMxBC7KOKxKdOkT3GirG8maWuBPBFol...</td>\n",
       "      <td>6baa013f-7566-4f8f-9c7c-89d9c5117f84</td>\n",
       "      <td>rahul</td>\n",
       "      <td>NaN</td>\n",
       "      <td>verma</td>\n",
       "      <td>rahul  verma</td>\n",
       "      <td>4.695897</td>\n",
       "      <td>0</td>\n",
       "      <td>5</td>\n",
       "      <td>0</td>\n",
       "      <td>5</td>\n",
       "      <td>10</td>\n",
       "      <td>0</td>\n",
       "      <td>[]</td>\n",
       "      <td>2</td>\n",
       "      <td>0.0</td>\n",
       "      <td>4</td>\n",
       "      <td>2</td>\n",
       "      <td>11</td>\n",
       "      <td>1101</td>\n",
       "      <td>0225</td>\n",
       "      <td>2</td>\n",
       "      <td>0225</td>\n",
       "      <td></td>\n",
       "      <td></td>\n",
       "      <td>05</td>\n",
       "      <td>0.0</td>\n",
       "      <td>59.0</td>\n",
       "      <td>0.0</td>\n",
       "      <td>3.0</td>\n",
       "      <td>0.0</td>\n",
       "      <td>-56.0</td>\n",
       "      <td>13.917757</td>\n",
       "      <td>0.249533</td>\n",
       "      <td>-13.917757</td>\n",
       "      <td>-56.249533</td>\n",
       "      <td></td>\n",
       "      <td></td>\n",
       "      <td>NaN</td>\n",
       "    </tr>\n",
       "  </tbody>\n",
       "</table>\n",
       "</div>"
      ],
      "text/plain": [
       "  FirstName  MiddleName LastName       Dob Gender    UserId  Status Email  \\\n",
       "0   Krishna  Nagnathrao    Patil  xxxx0908      U  255xx240       1   NaN   \n",
       "1   Jayasri         NaN     Kota  xxxx0913      U  255xx148       1   NaN   \n",
       "2     rahul         NaN    Verma  xxxx0225      U  255xx696       1   NaN   \n",
       "\n",
       "  phone_numbers  ProgramId ProgramName  PostalCode  BadTryCount  \\\n",
       "0    9707622140       6019     PayZapp    431717.0            0   \n",
       "1    9464191867       6019     PayZapp    521001.0            0   \n",
       "2    7074212592       6019     PayZapp    184205.0            0   \n",
       "\n",
       "  LastBadLoginTryTime LastLoginTime LastPinChangeTime PresentLoginTime  \\\n",
       "0                 NaN       14:44.0               NaN          35:21.0   \n",
       "1             41:12.0       42:07.0           41:56.0          59:06.0   \n",
       "2                 NaN       59:05.0               NaN          48:31.0   \n",
       "\n",
       "         RegisteredOn  OS Type Reg Referral Code Reg Referral Prefix  \\\n",
       "0 2020-11-01 00:00:00  Android               NaN                 NaN   \n",
       "1 2020-11-01 00:01:00  Android               NaN                 NaN   \n",
       "2 2020-11-01 00:03:00  Android               NaN                 NaN   \n",
       "\n",
       "  Ref PC AC Number              ip  \\\n",
       "0              NaN     49.35.221.2   \n",
       "1              NaN  117.197.223.15   \n",
       "2              NaN  205.253.177.88   \n",
       "\n",
       "                                           Device Id  \\\n",
       "0  anid:INE9EIU2dobAh3xITmtgvkw7mck8OVKbztVHLRW2R...   \n",
       "1  anid:ZipdGGO206z2mOdhJ/PkUe6Bzp4fmjZa28MZZA3Rg...   \n",
       "2  anid:cm0e88QJqfwMxBC7KOKxKdOkT3GirG8maWuBPBFol...   \n",
       "\n",
       "                                              Sim Id  \\\n",
       "0  anid:INE9EIU2dobAh3xITmtgvkw7mck8OVKbztVHLRW2R...   \n",
       "1  anid:ZipdGGO206z2mOdhJ/PkUe6Bzp4fmjZa28MZZA3Rg...   \n",
       "2  anid:cm0e88QJqfwMxBC7KOKxKdOkT3GirG8maWuBPBFol...   \n",
       "\n",
       "                              Meta Data FirstNameLower MiddleNameLower  \\\n",
       "0  7eba668f-d06e-492c-b008-f4b169492b1c        krishna      nagnathrao   \n",
       "1  d1499c8d-cbe9-48ae-b40e-963ca0898b60        jayasri             NaN   \n",
       "2  6baa013f-7566-4f8f-9c7c-89d9c5117f84          rahul             NaN   \n",
       "\n",
       "  LastNameLower                  FullName     Score  IsGibberish  \\\n",
       "0         patil  krishna nagnathrao patil  4.857123            0   \n",
       "1          kota             jayasri  kota  5.010674            0   \n",
       "2         verma              rahul  verma  4.695897            0   \n",
       "\n",
       "   FirstNameLen  MiddleNameLen  LastNameLen  TotalNameLength  \\\n",
       "0             7             10            5               22   \n",
       "1             7              0            4               11   \n",
       "2             5              0            5               10   \n",
       "\n",
       "   EnglishWordsCount EnglishWords  TotalWordsCount  PctEnglishWordsCount  \\\n",
       "0                  0           []                3                   0.0   \n",
       "1                  0           []                2                   0.0   \n",
       "2                  0           []                2                   0.0   \n",
       "\n",
       "   Vowels  MultipleSameNameReg  RegMonth RegDay DobCleaned  DobMonth DobDay  \\\n",
       "0       8                    1        11   1101       0908         9   0908   \n",
       "1       5                    1        11   1101       0913         9   0913   \n",
       "2       4                    2        11   1101       0225         2   0225   \n",
       "\n",
       "  IsBdayFlag(Month) IsBdayFlag(Day) LastLoginTime(sec)  LastLoginTime(hr)  \\\n",
       "0                                                   44                0.0   \n",
       "1                                                   07                0.0   \n",
       "2                                                   05                0.0   \n",
       "\n",
       "   LastLoginTime(min)  RegisteredOn(Hour)  RegisteredOn(Min)  LoginTimeInHrs  \\\n",
       "0                14.0                 0.0                0.0             0.0   \n",
       "1                42.0                 0.0                1.0             0.0   \n",
       "2                59.0                 0.0                3.0             0.0   \n",
       "\n",
       "   LoginTimeInMin  AverageLoginTime(Hours)  AverageLoginTime(Min)  \\\n",
       "0           -14.0                13.917757               0.249533   \n",
       "1           -41.0                13.917757               0.249533   \n",
       "2           -56.0                13.917757               0.249533   \n",
       "\n",
       "   DeviationFromAvgLoginTime(Hrs)  DeviationFromAvgLoginTime(Min)  \\\n",
       "0                      -13.917757                      -14.249533   \n",
       "1                      -13.917757                      -41.249533   \n",
       "2                      -13.917757                      -56.249533   \n",
       "\n",
       "  DeviationLoginTime-Hr DeviationLoginTime-Min  UsersPerEmail  \n",
       "0                                                         NaN  \n",
       "1                                                         NaN  \n",
       "2                                                         NaN  "
      ]
     },
     "execution_count": 64,
     "metadata": {},
     "output_type": "execute_result"
    }
   ],
   "source": [
    "df.head(3)"
   ]
  },
  {
   "cell_type": "markdown",
   "metadata": {},
   "source": [
    "### Email "
   ]
  },
  {
   "cell_type": "markdown",
   "metadata": {},
   "source": [
    "### Extraction of Domain name and count on same"
   ]
  },
  {
   "cell_type": "code",
   "execution_count": 65,
   "metadata": {},
   "outputs": [],
   "source": [
    "df['Domain'] = df['Email'].str.split('@').str[1]"
   ]
  },
  {
   "cell_type": "code",
   "execution_count": 66,
   "metadata": {},
   "outputs": [],
   "source": [
    "c = df.groupby(['Domain'])['phone_numbers'].count()\n",
    "c = pd.DataFrame(data=c)\n",
    "c = c.rename(columns= {'phone_numbers' : 'DomainCount'})\n",
    "df = pd.merge(df,c, how='outer', on='Domain')"
   ]
  },
  {
   "cell_type": "markdown",
   "metadata": {},
   "source": [
    "### Special char in email- returns False if there is a special char"
   ]
  },
  {
   "cell_type": "code",
   "execution_count": 67,
   "metadata": {},
   "outputs": [],
   "source": [
    "df['EmailBody'] = df['Email'].str.split('@').str[0]"
   ]
  },
  {
   "cell_type": "code",
   "execution_count": 68,
   "metadata": {},
   "outputs": [],
   "source": [
    "df['EmailCheck'] = df['EmailBody'].str.isalnum()\n",
    "df['EmailCheck']=np.where(df['EmailCheck']=='False','True','False')"
   ]
  },
  {
   "cell_type": "markdown",
   "metadata": {},
   "source": [
    "### Extracting Special Char and count on the same "
   ]
  },
  {
   "cell_type": "code",
   "execution_count": 69,
   "metadata": {},
   "outputs": [
    {
     "data": {
      "text/plain": [
       "+    68\n",
       "Name: SpclChar_InEmail, dtype: int64"
      ]
     },
     "execution_count": 69,
     "metadata": {},
     "output_type": "execute_result"
    }
   ],
   "source": [
    " #extracting all except alphabets,numbers,space,'.','_'\n",
    "df['SpclChar_InEmail'] = df['EmailBody'].str.extract('([^A-Za-z0-9\\s\\.\\_]+)')\n",
    "df['SpclChar_InEmail'].value_counts()"
   ]
  },
  {
   "cell_type": "code",
   "execution_count": 70,
   "metadata": {
    "scrolled": true
   },
   "outputs": [],
   "source": [
    "c = df.groupby(['SpclChar_InEmail'])['Email'].count()\n",
    "c = pd.DataFrame(data=c)\n",
    "c = c.rename(columns= {'Email' : 'SpclCharCount'})\n",
    "df = pd.merge(df,c, how='outer', on='SpclChar_InEmail')"
   ]
  },
  {
   "cell_type": "code",
   "execution_count": 71,
   "metadata": {},
   "outputs": [],
   "source": [
    "df['SpclCharFlag']=np.where(df['SpclCharCount']>0,'flag',0)"
   ]
  },
  {
   "cell_type": "markdown",
   "metadata": {},
   "source": [
    "### '+' character flag "
   ]
  },
  {
   "cell_type": "code",
   "execution_count": 72,
   "metadata": {},
   "outputs": [],
   "source": [
    "df['PlusCharFlag']=np.where(df['SpclChar_InEmail']=='+','flag',' ')"
   ]
  },
  {
   "cell_type": "code",
   "execution_count": 73,
   "metadata": {
    "scrolled": true
   },
   "outputs": [
    {
     "data": {
      "text/plain": [
       "        1417\n",
       "flag      68\n",
       "Name: PlusCharFlag, dtype: int64"
      ]
     },
     "execution_count": 73,
     "metadata": {},
     "output_type": "execute_result"
    }
   ],
   "source": [
    "df['PlusCharFlag'].value_counts()"
   ]
  },
  {
   "cell_type": "markdown",
   "metadata": {},
   "source": [
    "### Number Char in Email & count on the same"
   ]
  },
  {
   "cell_type": "code",
   "execution_count": 74,
   "metadata": {},
   "outputs": [],
   "source": [
    "df['NumChar_InEmail']=df['EmailBody'].str.replace(r'\\D+','')"
   ]
  },
  {
   "cell_type": "code",
   "execution_count": 75,
   "metadata": {},
   "outputs": [],
   "source": [
    "c=df.groupby(['NumChar_InEmail'])['phone_numbers'].count()\n",
    "c = pd.DataFrame(data=c)\n",
    "c = c.rename(columns= {'phone_numbers' : 'NumCharCount'})\n",
    "df = pd.merge(df,c, how='outer', on='NumChar_InEmail')"
   ]
  },
  {
   "cell_type": "code",
   "execution_count": 76,
   "metadata": {},
   "outputs": [
    {
     "data": {
      "text/plain": [
       "1.0     175\n",
       "65.0     65\n",
       "2.0      26\n",
       "3.0       6\n",
       "4.0       4\n",
       "Name: NumCharCount, dtype: int64"
      ]
     },
     "execution_count": 76,
     "metadata": {},
     "output_type": "execute_result"
    }
   ],
   "source": [
    "df['NumCharCount'].value_counts()"
   ]
  },
  {
   "cell_type": "code",
   "execution_count": 77,
   "metadata": {},
   "outputs": [],
   "source": [
    "df['NumCharFlag']=np.where(df['NumCharCount']<10, 'flag','')"
   ]
  },
  {
   "cell_type": "markdown",
   "metadata": {},
   "source": [
    "### Email text & count on the same "
   ]
  },
  {
   "cell_type": "code",
   "execution_count": 78,
   "metadata": {},
   "outputs": [],
   "source": [
    "df['Email_text'] = df['Email'].str.extract('([a-zA-Z ]+)', expand=False).str.strip()"
   ]
  },
  {
   "cell_type": "code",
   "execution_count": 79,
   "metadata": {},
   "outputs": [],
   "source": [
    "c=df.groupby(['Email_text'])['Email'].count()\n",
    "c = pd.DataFrame(data=c)\n",
    "c = c.rename(columns= {'Email' : 'EmailTextCount'})\n",
    "df = pd.merge(df,c, how='outer', on='Email_text')"
   ]
  },
  {
   "cell_type": "code",
   "execution_count": 80,
   "metadata": {},
   "outputs": [],
   "source": [
    "df['EmailTextFlag']=np.where(df['EmailTextCount']>1, 'flag','')"
   ]
  },
  {
   "cell_type": "code",
   "execution_count": 81,
   "metadata": {},
   "outputs": [],
   "source": [
    "#const input = 12345\n",
    "#const pattern = '0123456789012345789'\n",
    "#if (~pattern.indexOf(input))\n",
    "#  console.log('pattern in input')\n",
    "#else\n",
    "#  console.log('pattern not in input')"
   ]
  },
  {
   "cell_type": "markdown",
   "metadata": {},
   "source": [
    "## Postal Code"
   ]
  },
  {
   "cell_type": "markdown",
   "metadata": {},
   "source": [
    "### Users Per Postal Code"
   ]
  },
  {
   "cell_type": "code",
   "execution_count": 82,
   "metadata": {},
   "outputs": [],
   "source": [
    "c = df.groupby(['PostalCode'])['phone_numbers'].count()\n",
    "UsersPerPostalCode = pd.DataFrame(data=c)\n",
    "UsersPerPostalCode = UsersPerPostalCode.rename(columns= {'phone_numbers' : 'PostalCodeCounts'})\n",
    "df = pd.merge(df, UsersPerPostalCode, how='outer', on='PostalCode')\n"
   ]
  },
  {
   "cell_type": "code",
   "execution_count": 83,
   "metadata": {},
   "outputs": [],
   "source": [
    "#!pip install geopy\n",
    "#from geopy.geocoders import Nominatim\n"
   ]
  },
  {
   "cell_type": "code",
   "execution_count": 84,
   "metadata": {},
   "outputs": [],
   "source": [
    "# Importing required module \n",
    "\n",
    "#def geodata(code):\n",
    "    # Using Nominatim Api \n",
    "    #geolocator = Nominatim(user_agent=\"geoapiExercises\") \n",
    "  \n",
    " # Zipocde input \n",
    "#zipcode = \"560100\"\n",
    "  \n",
    "# Using geocode() \n",
    "    #location = geolocator.geocode(code) \n",
    " # Displaying address details \n",
    "    \n",
    "   # return location\n"
   ]
  },
  {
   "cell_type": "code",
   "execution_count": 85,
   "metadata": {},
   "outputs": [],
   "source": [
    "#df['pincodederivedloc']=df['PostalCode'][:100].apply(geodata)"
   ]
  },
  {
   "cell_type": "code",
   "execution_count": 86,
   "metadata": {},
   "outputs": [],
   "source": [
    "#df[\"pincodederivedloc\"].fillna(\"Invalid\", inplace = True) "
   ]
  },
  {
   "cell_type": "markdown",
   "metadata": {},
   "source": [
    "### Pincode Matching and deriving Location from the same"
   ]
  },
  {
   "cell_type": "code",
   "execution_count": 87,
   "metadata": {},
   "outputs": [],
   "source": [
    "df_pinreg = pd.read_csv(\"pincoderegistry.csv\")"
   ]
  },
  {
   "cell_type": "code",
   "execution_count": 88,
   "metadata": {},
   "outputs": [],
   "source": [
    "df_pinreg['PostalCode']=df_pinreg['PostalCode'].astype(object)"
   ]
  },
  {
   "cell_type": "code",
   "execution_count": 89,
   "metadata": {},
   "outputs": [],
   "source": [
    "df_pinreg = df_pinreg.rename(columns={'regionname':'RegionName_govdata'})\n",
    "df_pinreg = df_pinreg.rename(columns={'circlename':'CircleName_govdata'})\n",
    "df_pinreg = df_pinreg.rename(columns={'taluk':'Taluk_govdata'})\n",
    "df_pinreg = df_pinreg.rename(columns={'districtname':'DistrictName_govdata'})\n",
    "df_pinreg = df_pinreg.rename(columns={'statename':'StateName_govdata'})"
   ]
  },
  {
   "cell_type": "code",
   "execution_count": 90,
   "metadata": {},
   "outputs": [
    {
     "data": {
      "text/plain": [
       "24"
      ]
     },
     "execution_count": 90,
     "metadata": {},
     "output_type": "execute_result"
    }
   ],
   "source": [
    "df['PostalCode'].isnull().sum()"
   ]
  },
  {
   "cell_type": "code",
   "execution_count": 91,
   "metadata": {},
   "outputs": [
    {
     "data": {
      "text/plain": [
       "True     1316\n",
       "False     169\n",
       "Name: PostalCode, dtype: int64"
      ]
     },
     "execution_count": 91,
     "metadata": {},
     "output_type": "execute_result"
    }
   ],
   "source": [
    "n = df.PostalCode.isin(df_pinreg.PostalCode)\n",
    "n.value_counts()"
   ]
  },
  {
   "cell_type": "code",
   "execution_count": 92,
   "metadata": {},
   "outputs": [],
   "source": [
    "df['PostalCodeCheck'] = np.where(df['PostalCode'].isnull() ,' ',n)"
   ]
  },
  {
   "cell_type": "code",
   "execution_count": 93,
   "metadata": {},
   "outputs": [
    {
     "data": {
      "text/plain": [
       "True     1316\n",
       "False     145\n",
       "           24\n",
       "Name: PostalCodeCheck, dtype: int64"
      ]
     },
     "execution_count": 93,
     "metadata": {},
     "output_type": "execute_result"
    }
   ],
   "source": [
    "df['PostalCodeCheck'].value_counts()"
   ]
  },
  {
   "cell_type": "code",
   "execution_count": 94,
   "metadata": {},
   "outputs": [],
   "source": [
    "df = df.merge(df_pinreg[['PostalCode',\n",
    "       'RegionName_govdata', 'CircleName_govdata', 'Taluk_govdata', 'DistrictName_govdata', 'StateName_govdata']] , on='PostalCode',how='left')"
   ]
  },
  {
   "cell_type": "markdown",
   "metadata": {},
   "source": [
    "###  PostalCode counts per Referral Code"
   ]
  },
  {
   "cell_type": "code",
   "execution_count": 95,
   "metadata": {},
   "outputs": [],
   "source": [
    "r = df.groupby(['Reg Referral Code'])['PostalCode'].count()\n",
    "PostalsPerRef = pd.DataFrame(data=r)\n",
    "PostalsPerRef = PostalsPerRef.rename(columns= {'PostalCode' : 'PostalCountsPerRef'})\n",
    "df = pd.merge(df, PostalsPerRef, how='outer', on='Reg Referral Code')"
   ]
  },
  {
   "cell_type": "markdown",
   "metadata": {},
   "source": [
    "## Registrations per A/C number"
   ]
  },
  {
   "cell_type": "code",
   "execution_count": 96,
   "metadata": {},
   "outputs": [],
   "source": [
    "m = df.groupby(['Ref PC AC Number'])['phone_numbers'].count()\n",
    "UsersPerAC = pd.DataFrame(data=m)\n",
    "UsersPerAC = UsersPerAC.rename(columns= {'phone_numbers' : 'UsersPerAccount'})\n",
    "df = pd.merge(df, UsersPerAC, how='outer', on='Ref PC AC Number')\n"
   ]
  },
  {
   "cell_type": "markdown",
   "metadata": {},
   "source": [
    "## IP "
   ]
  },
  {
   "cell_type": "markdown",
   "metadata": {},
   "source": [
    "### Registered User Count Per IP Address"
   ]
  },
  {
   "cell_type": "code",
   "execution_count": 97,
   "metadata": {},
   "outputs": [],
   "source": [
    "d = df.groupby(['ip'])['phone_numbers'].count()\n",
    "UsersPerIP = pd.DataFrame(data=d)\n",
    "UsersPerIP = UsersPerIP.rename(columns= {'phone_numbers' : 'UserCountsPerIP'})\n",
    "df = pd.merge(df, UsersPerIP, how='outer', on='ip')\n"
   ]
  },
  {
   "cell_type": "markdown",
   "metadata": {},
   "source": [
    "### Users per IP Range\n",
    "### Users Per IP Block"
   ]
  },
  {
   "cell_type": "code",
   "execution_count": 98,
   "metadata": {},
   "outputs": [
    {
     "data": {
      "text/plain": [
       "0         49.35.221\n",
       "1       117.197.223\n",
       "2       205.253.177\n",
       "3       103.225.177\n",
       "4        157.35.224\n",
       "           ...     \n",
       "1480    106.213.183\n",
       "1481      49.36.230\n",
       "1482    103.242.123\n",
       "1483      49.206.44\n",
       "1484    103.206.136\n",
       "Name: IPBlock1, Length: 1485, dtype: object"
      ]
     },
     "execution_count": 98,
     "metadata": {},
     "output_type": "execute_result"
    }
   ],
   "source": [
    "df['IPBlock1'] = df['ip'].str.extract('(\\d+\\.\\d+\\.\\d+)')\n",
    "df['IPBlock1']"
   ]
  },
  {
   "cell_type": "code",
   "execution_count": 99,
   "metadata": {},
   "outputs": [],
   "source": [
    "f = df.groupby(['IPBlock1'])['phone_numbers'].count()\n",
    "UsersPerBlock1 = pd.DataFrame(data=f)\n",
    "UsersPerBlock1 = UsersPerBlock1.rename(columns= {'phone_numbers' : 'UsersPerBlock1'})\n",
    "df = pd.merge(df, UsersPerBlock1, how='outer', on='IPBlock1')"
   ]
  },
  {
   "cell_type": "code",
   "execution_count": 100,
   "metadata": {},
   "outputs": [],
   "source": [
    "df['IPBlock2'] = df['ip'].str.extract('(\\d+\\.\\d+)')"
   ]
  },
  {
   "cell_type": "code",
   "execution_count": 101,
   "metadata": {},
   "outputs": [],
   "source": [
    "z = df.groupby(['IPBlock2'])['phone_numbers'].count()\n",
    "UsersPerBlock2 = pd.DataFrame(data=z)\n",
    "UsersPerBlock2 = UsersPerBlock2.rename(columns= {'phone_numbers' : 'UsersPerBlock2'})\n",
    "df = pd.merge(df, UsersPerBlock2, how='outer', on='IPBlock2')"
   ]
  },
  {
   "cell_type": "code",
   "execution_count": 102,
   "metadata": {},
   "outputs": [],
   "source": [
    "df['IPBlock3'] = df['ip'].str.extract('(\\d+)')"
   ]
  },
  {
   "cell_type": "code",
   "execution_count": 103,
   "metadata": {},
   "outputs": [],
   "source": [
    "y = df.groupby(['IPBlock3'])['phone_numbers'].count()\n",
    "UsersPerBlock3 = pd.DataFrame(data=y)\n",
    "UsersPerBlock3 = UsersPerBlock3.rename(columns= {'phone_numbers' : 'UsersPerBlock3'})\n",
    "df = pd.merge(df, UsersPerBlock3, how='outer', on='IPBlock3')"
   ]
  },
  {
   "cell_type": "markdown",
   "metadata": {},
   "source": [
    "## Device "
   ]
  },
  {
   "cell_type": "markdown",
   "metadata": {},
   "source": [
    "### Registrations per Device Id"
   ]
  },
  {
   "cell_type": "markdown",
   "metadata": {},
   "source": [
    "#### Filter for the blanks "
   ]
  },
  {
   "cell_type": "code",
   "execution_count": 104,
   "metadata": {},
   "outputs": [
    {
     "data": {
      "text/plain": [
       "(1485, 93)"
      ]
     },
     "execution_count": 104,
     "metadata": {},
     "output_type": "execute_result"
    }
   ],
   "source": [
    "df.shape"
   ]
  },
  {
   "cell_type": "code",
   "execution_count": 105,
   "metadata": {},
   "outputs": [],
   "source": [
    "#dfd=df[df['Device Id'].notnull()]\n",
    "#dfd.shape"
   ]
  },
  {
   "cell_type": "code",
   "execution_count": 106,
   "metadata": {},
   "outputs": [],
   "source": [
    "#dfd[' Meta Data'].isnull().sum()"
   ]
  },
  {
   "cell_type": "code",
   "execution_count": 107,
   "metadata": {},
   "outputs": [],
   "source": [
    "e = df.groupby(['Device Id'])['phone_numbers'].count()\n",
    "UsersPerDeviceId = pd.DataFrame(data=e)\n",
    "UsersPerDeviceId = UsersPerDeviceId.rename(columns= {'phone_numbers' : 'UserCountPerDeviceId'})\n",
    "df = pd.merge(df, UsersPerDeviceId, how='outer', on='Device Id')"
   ]
  },
  {
   "cell_type": "markdown",
   "metadata": {},
   "source": [
    "### Registrations per Sim Id"
   ]
  },
  {
   "cell_type": "code",
   "execution_count": 108,
   "metadata": {},
   "outputs": [],
   "source": [
    "f = df.groupby(['Sim Id'])['phone_numbers'].count()\n",
    "UsersPerSimId = pd.DataFrame(data=f)\n",
    "UsersPerSimId = UsersPerSimId.rename(columns= {'phone_numbers' : 'UserCountPerSimId'})\n",
    "df = pd.merge(df, UsersPerSimId, how='outer', on='Sim Id')"
   ]
  },
  {
   "cell_type": "markdown",
   "metadata": {},
   "source": [
    "### Meta Data Counts"
   ]
  },
  {
   "cell_type": "code",
   "execution_count": 109,
   "metadata": {},
   "outputs": [],
   "source": [
    "#dfm=df[df[' Meta Data'].notnull()]\n",
    "#dfm.shape"
   ]
  },
  {
   "cell_type": "code",
   "execution_count": 110,
   "metadata": {},
   "outputs": [],
   "source": [
    "#dfm[' Meta Data'].isnull().sum()"
   ]
  },
  {
   "cell_type": "code",
   "execution_count": 111,
   "metadata": {},
   "outputs": [],
   "source": [
    "o = df.groupby([' Meta Data'])['phone_numbers'].count()\n",
    "RegisteredUsersPerMetaData = pd.DataFrame(data=o)\n",
    "RegisteredUsersPerMetaData =RegisteredUsersPerMetaData .rename(columns={'phone_numbers':'UsersPerMetaData'})\n",
    "df = pd.merge(df, RegisteredUsersPerMetaData, how ='outer', on =' Meta Data') "
   ]
  },
  {
   "cell_type": "markdown",
   "metadata": {},
   "source": [
    "### Referral Code Velocity - frequency usage of each referral code"
   ]
  },
  {
   "cell_type": "code",
   "execution_count": 112,
   "metadata": {},
   "outputs": [],
   "source": [
    "# drop for the hourly and 2 hourly buckets for now"
   ]
  },
  {
   "cell_type": "code",
   "execution_count": 113,
   "metadata": {},
   "outputs": [],
   "source": [
    "#z = df['Reg Referral Code'].value_counts()"
   ]
  },
  {
   "cell_type": "code",
   "execution_count": 114,
   "metadata": {},
   "outputs": [],
   "source": [
    "#z1 = z.to_dict() #converts to dictionary\n",
    "#df['RefCodesVelocity'] = df['Reg Referral Code'].map(z1) "
   ]
  },
  {
   "cell_type": "code",
   "execution_count": 115,
   "metadata": {},
   "outputs": [],
   "source": [
    "e=df.groupby(['Reg Referral Code'])['phone_numbers'].count()\n",
    "e = pd.DataFrame(data=e)\n",
    "e = e.rename(columns={'phone_numbers':'RefCodeVelocity'})\n",
    "df = pd.merge(df,e,how='outer',on='Reg Referral Code')"
   ]
  },
  {
   "cell_type": "markdown",
   "metadata": {},
   "source": [
    "## Deriving Location Details from IP address and Mobile"
   ]
  },
  {
   "cell_type": "code",
   "execution_count": 116,
   "metadata": {},
   "outputs": [],
   "source": [
    "dfm = pd.read_csv('PhoneNumbers_With_location.csv')"
   ]
  },
  {
   "cell_type": "code",
   "execution_count": 117,
   "metadata": {},
   "outputs": [],
   "source": [
    "dfm = pd.read_csv('PhoneNumbers_With_location.csv')\n",
    "dfm['phonenumber']=dfm['phonenumber'].astype(str)\n",
    "dfm['phonenumber']=dfm['phonenumber'].str[2:]"
   ]
  },
  {
   "cell_type": "code",
   "execution_count": 118,
   "metadata": {},
   "outputs": [],
   "source": [
    "dfm = dfm.rename(columns={'phonenumber':'Mobile_API'})\n",
    "dfm = dfm.rename(columns={'is_valid':'IsValidMobile_API'})\n",
    "dfm = dfm.rename(columns={'local_format':'LocalFormatMobile_API'})\n",
    "dfm = dfm.rename(columns={'international_format':'IntFormatMobile_API'})\n",
    "dfm = dfm.rename(columns={'country_prefix':'CountryPrefixMobile_API'})\n",
    "dfm = dfm.rename(columns={'country_code':'CountryCodeMobile_API'})\n",
    "dfm = dfm.rename(columns={'location':'LocationMobile_API'})\n",
    "dfm = dfm.rename(columns={'carrier':'CarrierMobile_API'})\n",
    "dfm = dfm.rename(columns={'line_type':'LineTypeMobile_API'})\n",
    "dfm=dfm.drop(['json'],axis=1)"
   ]
  },
  {
   "cell_type": "code",
   "execution_count": 119,
   "metadata": {},
   "outputs": [
    {
     "data": {
      "text/plain": [
       "(1485, 9)"
      ]
     },
     "execution_count": 119,
     "metadata": {},
     "output_type": "execute_result"
    }
   ],
   "source": [
    "dfi = pd.read_csv('IPs_With_location.csv')\n",
    "dfi.shape"
   ]
  },
  {
   "cell_type": "code",
   "execution_count": 120,
   "metadata": {},
   "outputs": [],
   "source": [
    "dfi = dfi.rename(columns={'country_code':'CountryCodeIP_API'})\n",
    "dfi = dfi.rename(columns={'country_name':'CountryNameIP_API'})\n",
    "dfi = dfi.rename(columns={'region_name':'RegionNameIP_API'})\n",
    "dfi = dfi.rename(columns={'city_name':'CityNameIP_API'})\n",
    "dfi = dfi.rename(columns={'zip_code':'ZipcodeIP_API'})\n",
    "dfi=dfi.drop(['json'],axis=1)"
   ]
  },
  {
   "cell_type": "code",
   "execution_count": 121,
   "metadata": {},
   "outputs": [],
   "source": [
    "f3 = df.merge(dfi.drop_duplicates(subset=['ip']), how='left', on='ip')"
   ]
  },
  {
   "cell_type": "code",
   "execution_count": 122,
   "metadata": {},
   "outputs": [],
   "source": [
    "f3['phone_numbers']=f3['phone_numbers'].astype(str)\n",
    "dfm['Mobile_API']=dfm['Mobile_API'].astype(str)"
   ]
  },
  {
   "cell_type": "code",
   "execution_count": 123,
   "metadata": {},
   "outputs": [],
   "source": [
    "f3=pd.merge(f3,dfm, how='left', left_on='phone_numbers', right_on='Mobile_API')"
   ]
  },
  {
   "cell_type": "code",
   "execution_count": 124,
   "metadata": {},
   "outputs": [
    {
     "data": {
      "text/plain": [
       "(1485, 114)"
      ]
     },
     "execution_count": 124,
     "metadata": {},
     "output_type": "execute_result"
    }
   ],
   "source": [
    "f3.shape"
   ]
  },
  {
   "cell_type": "markdown",
   "metadata": {},
   "source": [
    "# Columns further Derived from the 1st version of output"
   ]
  },
  {
   "cell_type": "markdown",
   "metadata": {},
   "source": [
    "### Matching of Country (IPaddress)"
   ]
  },
  {
   "cell_type": "code",
   "execution_count": 125,
   "metadata": {},
   "outputs": [],
   "source": [
    "f3['CountryNameIP_API'] = f3['CountryNameIP_API'].replace(np.nan,\" \",regex=True)"
   ]
  },
  {
   "cell_type": "code",
   "execution_count": 126,
   "metadata": {},
   "outputs": [],
   "source": [
    "conditions  = [(f3['CountryNameIP_API'] == \"India\"),(f3['CountryNameIP_API']==' ')]\n",
    "choices     = [('Valid'),(' ')]\n",
    "f3['CountryMatching(IP)'] = np.select(conditions, choices, default='Invalid')"
   ]
  },
  {
   "cell_type": "markdown",
   "metadata": {},
   "source": [
    "### Matching of Country Code(IP Address)"
   ]
  },
  {
   "cell_type": "code",
   "execution_count": 127,
   "metadata": {},
   "outputs": [],
   "source": [
    "f3['CountryCodeIP_API']=f3['CountryCodeIP_API'].replace(np.nan,\" \",regex=True)"
   ]
  },
  {
   "cell_type": "code",
   "execution_count": 128,
   "metadata": {},
   "outputs": [],
   "source": [
    "conditions  = [(f3['CountryCodeIP_API'] == \"IN\"),(f3['CountryCodeIP_API'] ==' ')]\n",
    "choices     = [('Valid'),(' ')]\n",
    "f3['CountryCodeMatching(IP)'] = np.select(conditions, choices, default='Invalid')"
   ]
  },
  {
   "cell_type": "code",
   "execution_count": 129,
   "metadata": {},
   "outputs": [
    {
     "data": {
      "text/plain": [
       "Valid      1000\n",
       "            483\n",
       "Invalid       2\n",
       "Name: CountryCodeMatching(IP), dtype: int64"
      ]
     },
     "execution_count": 129,
     "metadata": {},
     "output_type": "execute_result"
    }
   ],
   "source": [
    "f3['CountryCodeMatching(IP)'].value_counts()\n"
   ]
  },
  {
   "cell_type": "markdown",
   "metadata": {},
   "source": [
    "### Matching of Country Code(Mobile)"
   ]
  },
  {
   "cell_type": "code",
   "execution_count": 130,
   "metadata": {},
   "outputs": [],
   "source": [
    "f3['CountryCodeMobile_API'] =f3['CountryCodeMobile_API'].replace(np.nan,\" \",regex=True)"
   ]
  },
  {
   "cell_type": "code",
   "execution_count": 131,
   "metadata": {},
   "outputs": [],
   "source": [
    "conditions  = [(f3['CountryCodeMobile_API'] == \"IN\"),(f3['CountryCodeMobile_API'] ==' ')]\n",
    "choices     = [('Valid'),(' ')]\n",
    "f3['CountryCodeMatching(Mobile)'] = np.select(conditions, choices, default='Invalid')"
   ]
  },
  {
   "cell_type": "markdown",
   "metadata": {},
   "source": [
    "### Matching of State through Pincode"
   ]
  },
  {
   "cell_type": "code",
   "execution_count": 132,
   "metadata": {},
   "outputs": [],
   "source": [
    "f3['PostalCode'] = f3['PostalCode'].astype(str)\n",
    "f3['ExtractedPinDigits(State)'] = f3['PostalCode'].str.slice(0, 1) "
   ]
  },
  {
   "cell_type": "code",
   "execution_count": 133,
   "metadata": {},
   "outputs": [],
   "source": [
    "f3['ZipcodeIP_API'] = f3['ZipcodeIP_API'].astype(str)\n",
    "f3['ExtractedPinDigits(IP-State)'] = f3['ZipcodeIP_API'].str.slice(0, 1) "
   ]
  },
  {
   "cell_type": "code",
   "execution_count": 134,
   "metadata": {},
   "outputs": [],
   "source": [
    "f3['PostalCodeCheck'] = f3['PostalCodeCheck'].astype(str)"
   ]
  },
  {
   "cell_type": "code",
   "execution_count": 135,
   "metadata": {},
   "outputs": [],
   "source": [
    "conditions  = [(f3['PostalCodeCheck']==' '),(f3['PostalCodeCheck']=='False'),(f3['ZipcodeIP_API']=='nan'),(f3['ExtractedPinDigits(State)'] == f3['ExtractedPinDigits(IP-State)'])]\n",
    "choices     = [(' '),('Invalid'),(' '),('Match')]\n",
    "f3['StateMatching'] = np.select(conditions, choices, default='Mismatch')"
   ]
  },
  {
   "cell_type": "markdown",
   "metadata": {},
   "source": [
    "### Matching of Locality through Pincode"
   ]
  },
  {
   "cell_type": "code",
   "execution_count": 136,
   "metadata": {},
   "outputs": [],
   "source": [
    "f3['PostalCode'] = f3['PostalCode'].astype(str)\n",
    "f3['ExtractedPinDigits(Locality)'] = f3['PostalCode'].str.slice(0, 3) "
   ]
  },
  {
   "cell_type": "code",
   "execution_count": 137,
   "metadata": {},
   "outputs": [],
   "source": [
    "f3['ZipcodeIP_API'] = f3['ZipcodeIP_API'].astype(str)\n",
    "f3['ExtractedPinDigits(IP-Locality)'] = f3['ZipcodeIP_API'].str.slice(0, 3) "
   ]
  },
  {
   "cell_type": "code",
   "execution_count": 138,
   "metadata": {},
   "outputs": [],
   "source": [
    "conditions  = [(f3['PostalCodeCheck']==' '),(f3['PostalCodeCheck']=='False'),(f3['ZipcodeIP_API']=='nan'),(f3['ExtractedPinDigits(Locality)'] == f3['ExtractedPinDigits(IP-Locality)'])]\n",
    "choices     = [(' '),('Invalid'),(' '),('Match')]\n",
    "f3['LocalityMatching'] = np.select(conditions, choices, default='Mismatch')"
   ]
  },
  {
   "cell_type": "markdown",
   "metadata": {},
   "source": [
    "### Pincode matching with that of IP address"
   ]
  },
  {
   "cell_type": "code",
   "execution_count": 139,
   "metadata": {},
   "outputs": [
    {
     "data": {
      "text/plain": [
       "nan         483\n",
       "400099.0     85\n",
       "560018.0     57\n",
       "500018.0     46\n",
       "412415.0     43\n",
       "           ... \n",
       "796181.0      1\n",
       "524308.0      1\n",
       "476111.0      1\n",
       "574508.0      1\n",
       "246763.0      1\n",
       "Name: ZipcodeIP_API, Length: 276, dtype: int64"
      ]
     },
     "execution_count": 139,
     "metadata": {},
     "output_type": "execute_result"
    }
   ],
   "source": [
    "f3['ZipcodeIP_API'].value_counts()"
   ]
  },
  {
   "cell_type": "code",
   "execution_count": 140,
   "metadata": {},
   "outputs": [],
   "source": [
    "conditions  = [(f3['PostalCodeCheck']==' '),(f3['ZipcodeIP_API']=='nan'),(f3['PostalCode'] == f3['ZipcodeIP_API'])]\n",
    "choices     = [(' '),(' '),('Match')]\n",
    "f3['ZipcodeMatch-UserEntered&IP'] = np.select(conditions, choices, default='Mismatch')"
   ]
  },
  {
   "cell_type": "code",
   "execution_count": 141,
   "metadata": {},
   "outputs": [
    {
     "data": {
      "text/plain": [
       "Mismatch    974\n",
       "            505\n",
       "Match         6\n",
       "Name: ZipcodeMatch-UserEntered&IP, dtype: int64"
      ]
     },
     "execution_count": 141,
     "metadata": {},
     "output_type": "execute_result"
    }
   ],
   "source": [
    "f3['ZipcodeMatch-UserEntered&IP'].value_counts()"
   ]
  },
  {
   "cell_type": "code",
   "execution_count": 142,
   "metadata": {},
   "outputs": [],
   "source": [
    "f3 = f3.rename(columns={'phone_numbers':'Mobile'})\n",
    "f3 = f3.rename(columns={'ip':'Reg Client IP'})\n",
    "f3 = f3.drop(['number'],axis=1)"
   ]
  },
  {
   "cell_type": "code",
   "execution_count": 143,
   "metadata": {},
   "outputs": [],
   "source": [
    "f3.to_csv('RegSignal.csv', index=False)"
   ]
  },
  {
   "cell_type": "code",
   "execution_count": 144,
   "metadata": {},
   "outputs": [
    {
     "name": "stdout",
     "output_type": "stream",
     "text": [
      "['FirstName', 'MiddleName', 'LastName', 'Dob', 'Gender', 'UserId', 'Status', 'Email', 'Mobile', 'ProgramId', 'ProgramName', 'PostalCode', 'BadTryCount', 'LastBadLoginTryTime', 'LastLoginTime', 'LastPinChangeTime', 'PresentLoginTime', 'RegisteredOn', 'OS Type', 'Reg Referral Code', 'Reg Referral Prefix', 'Ref PC AC Number', 'Reg Client IP', 'Device Id', 'Sim Id', ' Meta Data', 'FirstNameLower', 'MiddleNameLower', 'LastNameLower', 'FullName', 'Score', 'IsGibberish', 'FirstNameLen', 'MiddleNameLen', 'LastNameLen', 'TotalNameLength', 'EnglishWordsCount', 'EnglishWords', 'TotalWordsCount', 'PctEnglishWordsCount', 'Vowels', 'MultipleSameNameReg', 'RegMonth', 'RegDay', 'DobCleaned', 'DobMonth', 'DobDay', 'IsBdayFlag(Month)', 'IsBdayFlag(Day)', 'LastLoginTime(sec)', 'LastLoginTime(hr)', 'LastLoginTime(min)', 'RegisteredOn(Hour)', 'RegisteredOn(Min)', 'LoginTimeInHrs', 'LoginTimeInMin', 'AverageLoginTime(Hours)', 'AverageLoginTime(Min)', 'DeviationFromAvgLoginTime(Hrs)', 'DeviationFromAvgLoginTime(Min)', 'DeviationLoginTime-Hr', 'DeviationLoginTime-Min', 'UsersPerEmail', 'Domain', 'DomainCount', 'EmailBody', 'EmailCheck', 'SpclChar_InEmail', 'SpclCharCount', 'SpclCharFlag', 'PlusCharFlag', 'NumChar_InEmail', 'NumCharCount', 'NumCharFlag', 'Email_text', 'EmailTextCount', 'EmailTextFlag', 'PostalCodeCounts', 'PostalCodeCheck', 'RegionName_govdata', 'CircleName_govdata', 'Taluk_govdata', 'DistrictName_govdata', 'StateName_govdata', 'PostalCountsPerRef', 'UsersPerAccount', 'UserCountsPerIP', 'IPBlock1', 'UsersPerBlock1', 'IPBlock2', 'UsersPerBlock2', 'IPBlock3', 'UsersPerBlock3', 'UserCountPerDeviceId', 'UserCountPerSimId', 'UsersPerMetaData', 'RefCodeVelocity', 'CountryCodeIP_API', 'CountryNameIP_API', 'RegionNameIP_API', 'CityNameIP_API', 'latitude', 'longitude', 'ZipcodeIP_API', 'Mobile_API', 'IsValidMobile_API', 'LocalFormatMobile_API', 'IntFormatMobile_API', 'CountryPrefixMobile_API', 'CountryCodeMobile_API', 'LocationMobile_API', 'CarrierMobile_API', 'LineTypeMobile_API', 'CountryMatching(IP)', 'CountryCodeMatching(IP)', 'CountryCodeMatching(Mobile)', 'ExtractedPinDigits(State)', 'ExtractedPinDigits(IP-State)', 'StateMatching', 'ExtractedPinDigits(Locality)', 'ExtractedPinDigits(IP-Locality)', 'LocalityMatching', 'ZipcodeMatch-UserEntered&IP']\n"
     ]
    }
   ],
   "source": [
    "print(f3.columns.tolist())"
   ]
  },
  {
   "cell_type": "code",
   "execution_count": 145,
   "metadata": {},
   "outputs": [
    {
     "data": {
      "text/plain": [
       "(1485, 123)"
      ]
     },
     "execution_count": 145,
     "metadata": {},
     "output_type": "execute_result"
    }
   ],
   "source": [
    "f3.shape"
   ]
  },
  {
   "cell_type": "code",
   "execution_count": 146,
   "metadata": {},
   "outputs": [
    {
     "data": {
      "text/plain": [
       "Valid      1000\n",
       "            483\n",
       "Invalid       2\n",
       "Name: CountryMatching(IP), dtype: int64"
      ]
     },
     "execution_count": 146,
     "metadata": {},
     "output_type": "execute_result"
    }
   ],
   "source": [
    "f3['CountryMatching(IP)'].value_counts()"
   ]
  },
  {
   "cell_type": "code",
   "execution_count": 147,
   "metadata": {},
   "outputs": [
    {
     "data": {
      "text/plain": [
       "Valid      1000\n",
       "            483\n",
       "Invalid       2\n",
       "Name: CountryCodeMatching(IP), dtype: int64"
      ]
     },
     "execution_count": 147,
     "metadata": {},
     "output_type": "execute_result"
    }
   ],
   "source": [
    "f3['CountryCodeMatching(IP)'].value_counts()"
   ]
  },
  {
   "cell_type": "code",
   "execution_count": 148,
   "metadata": {},
   "outputs": [
    {
     "data": {
      "text/plain": [
       "         1448\n",
       "Valid      37\n",
       "Name: CountryCodeMatching(Mobile), dtype: int64"
      ]
     },
     "execution_count": 148,
     "metadata": {},
     "output_type": "execute_result"
    }
   ],
   "source": [
    "f3['CountryCodeMatching(Mobile)'].value_counts()"
   ]
  },
  {
   "cell_type": "code",
   "execution_count": 149,
   "metadata": {},
   "outputs": [
    {
     "data": {
      "text/plain": [
       "Match       812\n",
       "            384\n",
       "Invalid     145\n",
       "Mismatch    144\n",
       "Name: StateMatching, dtype: int64"
      ]
     },
     "execution_count": 149,
     "metadata": {},
     "output_type": "execute_result"
    }
   ],
   "source": [
    "f3['StateMatching'].value_counts()"
   ]
  },
  {
   "cell_type": "code",
   "execution_count": 150,
   "metadata": {},
   "outputs": [
    {
     "data": {
      "text/plain": [
       "Mismatch    731\n",
       "            384\n",
       "Match       225\n",
       "Invalid     145\n",
       "Name: LocalityMatching, dtype: int64"
      ]
     },
     "execution_count": 150,
     "metadata": {},
     "output_type": "execute_result"
    }
   ],
   "source": [
    "f3['LocalityMatching'].value_counts()"
   ]
  },
  {
   "cell_type": "code",
   "execution_count": 151,
   "metadata": {},
   "outputs": [
    {
     "data": {
      "text/plain": [
       "Mismatch    974\n",
       "            505\n",
       "Match         6\n",
       "Name: ZipcodeMatch-UserEntered&IP, dtype: int64"
      ]
     },
     "execution_count": 151,
     "metadata": {},
     "output_type": "execute_result"
    }
   ],
   "source": [
    "f3['ZipcodeMatch-UserEntered&IP'].value_counts()"
   ]
  },
  {
   "cell_type": "markdown",
   "metadata": {},
   "source": [
    "# Creating an Index to classify records as Abuse and Non-Abuse"
   ]
  },
  {
   "cell_type": "markdown",
   "metadata": {},
   "source": [
    "## Sub-indexing"
   ]
  },
  {
   "cell_type": "code",
   "execution_count": 152,
   "metadata": {},
   "outputs": [],
   "source": [
    "df = pd.read_csv('RegSignal.csv')"
   ]
  },
  {
   "cell_type": "code",
   "execution_count": 153,
   "metadata": {},
   "outputs": [],
   "source": [
    "df['ScoreNorm']=(df['Score']-df['Score'].min())/(df['Score'].max()-df['Score'].min())\n",
    "df['ScoreNorm'] = df['ScoreNorm'].apply(lambda x: x*100)\n",
    "df['ScoreNormRev'] = df['ScoreNorm'].apply(lambda x: 100-x)\n",
    "df['GibberishFlagNorm']=(df['IsGibberish']-df['IsGibberish'].min())/(df['IsGibberish'].max()-df['IsGibberish'].min())\n",
    "df['GibberishFlagNorm'] = df['GibberishFlagNorm'].apply(lambda x: x*100)\n",
    "#from scipy import stats\n",
    "#df['ScoreNorm3'] = np.abs(stats.zscore(df[\"Score\"]))\n",
    "\n",
    "\n",
    "# # Device\n",
    "# In[15]:\n",
    "#MEAN FOR NON-BLANK ROWS\n",
    "df['UsersPerMetaData ']=df['UsersPerMetaData'].fillna(df['UsersPerMetaData'].mean())\n",
    "df['UsersPerMetaDataNorm']= (df['UsersPerMetaData ']-df['UsersPerMetaData '].min())/(df['UsersPerMetaData '].max()-df['UsersPerMetaData '].min())\n",
    "df['UsersPerMetaDataNorm'] = df['UsersPerMetaDataNorm'].apply(lambda x: x*100)\n",
    "df['UserCountPerDeviceId ']=df['UserCountPerDeviceId'].fillna(df['UserCountPerDeviceId'].mean())\n",
    "df['UserCountPerDeviceIdNorm']= (df['UserCountPerDeviceId ']-df['UserCountPerDeviceId '].min())/(df['UserCountPerDeviceId '].max()-df['UserCountPerDeviceId '].min())\n",
    "df['UserCountPerDeviceIdNorm'] = df['UserCountPerDeviceIdNorm'].apply(lambda x: x*100)\n",
    "df['UserCountPerSimId ']=df['UserCountPerSimId'].fillna(df['UserCountPerSimId'].mean())\n",
    "#df['UserCountPerSimIdNorm']= (df['UserCountPerSimId ']-df['UserCountPerSimId '].min())/(df['UserCountPerSimId '].max()-df['UserCountPerSimId '].min())\n",
    "df['UserCountPerSimIdNorm'] = df['UserCountPerSimId '].apply(lambda x: x*100)\n",
    "\n",
    "\n",
    "# # Zipcode\n",
    "#df['PostalCodeCounts'] = df['PostalCodeCounts'].fillna(df['PostalCodeCounts'].mean())\n",
    "#df['PostalCodeCountsNorm']= (df['PostalCodeCounts']-df['PostalCodeCounts'].min())/(df['PostalCodeCounts'].max()-df['PostalCodeCounts'].min())\n",
    "#df['PostalCodeCountsNorm'] = df['PostalCodeCountsNorm'].apply(lambda x: x*100)\n",
    "conditions  = [(df['PostalCodeCheck']== 'True'),(df['PostalCodeCheck']== 'False')]\n",
    "choices     = [0,1]\n",
    "df['PostalCodeCheck '] = np.select(conditions, choices, default=0.097)\n",
    "df['PostalCodeCheckNorm']= (df['PostalCodeCheck ']-df['PostalCodeCheck '].min())/(df['PostalCodeCheck '].max()-df['PostalCodeCheck '].min())\n",
    "df['PostalCodeCheckNorm'] = df['PostalCodeCheckNorm'].apply(lambda x: x*100)\n",
    "\n",
    "\n",
    "#IP\n",
    "df['UserCountsPerIPNorm']=(df['UserCountsPerIP']-df['UserCountsPerIP'].min())/(df['UserCountsPerIP'].max()-df['UserCountsPerIP'].min())\n",
    "df['UserCountsPerIPNorm']=df['UserCountsPerIPNorm'].apply(lambda x: x*100)\n",
    "# In[8]:\n",
    "df['UsersPerBlock1Norm']=(df['UsersPerBlock1']-df['UsersPerBlock1'].min())/(df['UsersPerBlock1'].max()-df['UsersPerBlock1'].min())\n",
    "df['UsersPerBlock1Norm']=df['UsersPerBlock1Norm'].apply(lambda x: x*100)\n",
    "# In[9]:\n",
    "df['UsersPerBlock2Norm']=(df['UsersPerBlock2']-df['UsersPerBlock2'].min())/(df['UsersPerBlock2'].max()-df['UsersPerBlock2'].min())\n",
    "df['UsersPerBlock2Norm']=df['UsersPerBlock2Norm'].apply(lambda x: x*100)\n",
    "# In[10]:\n",
    "df['UsersPerBlock3Norm']=(df['UsersPerBlock3']-df['UsersPerBlock3'].min())/(df['UsersPerBlock3'].max()-df['UsersPerBlock3'].min())\n",
    "df['UsersPerBlock3Norm']=df['UsersPerBlock3Norm'].apply(lambda x: x*100)\n",
    "\n",
    "\n",
    "# # Referral Code\n",
    "df['RefCodesVelocity']=df['RefCodeVelocity'].fillna(df['RefCodeVelocity'].mean())\n",
    "df['RefCodesVelocityNorm'] = (df['RefCodesVelocity']-df['RefCodesVelocity'].min())/(df['RefCodesVelocity'].max()-df['RefCodesVelocity'].min())\n",
    "df['RefCodesVelocityNorm']=df['RefCodesVelocityNorm'].apply(lambda x: x*100)\n",
    "\n",
    "\n",
    "# # Email\n",
    "#fillna with average for non-null email\n",
    "df['SpclCharFlag'] = np.where(df['SpclCharFlag']=='flag',1,0)\n",
    "conditions  = [(df['Email'].isnull()),(df['Email'].notnull())]\n",
    "choices     = [(df['SpclCharCount'].fillna(df['SpclCharFlag'].mean())),(df['SpclCharCount'].fillna(df['SpclCharFlag'].min()))]\n",
    "df[\"SpclCharCount \"] = np.select(conditions, choices, default='')\n",
    "df['SpclCharCount '] = df['SpclCharCount '].astype(float)\n",
    "df['SpclCharCountNorm'] = (df['SpclCharCount ']-df['SpclCharCount '].min())/(df['SpclCharCount '].max()-df['SpclCharCount '].min())\n",
    "df['SpclCharCountNorm']=df['SpclCharCount '].apply(lambda x: x*100)\n",
    "\n",
    "df['PlusCharFlag']= np.where(df['PlusCharFlag']=='flag',1,0)\n",
    "\n",
    "conditions  = [(df['Email'].isnull()),(df['PlusCharFlag']==1)]\n",
    "choices     = [(df['PlusCharFlag'].mean()),(1) ]\n",
    "df[\"PlusCharFlag \"] = np.select(conditions, choices, default=0)\n",
    "\n",
    "\n",
    "conditions  = [(df['Email'].isnull()),(df['Email'].notnull())]\n",
    "choices     = [(df['NumCharCount'].fillna(df['NumCharCount'].mean())),(df['NumCharCount'].fillna(df['NumCharCount'].max()))]\n",
    "df[\"NumCharCount \"] = np.select(conditions, choices, default='')\n",
    "df['NumCharCount '] = df['NumCharCount '].astype(float)\n",
    "df['NumCharCountNorm'] = (df['NumCharCount ']-df['NumCharCount '].min())/(df['NumCharCount '].max()-df['NumCharCount '].min())\n",
    "df['NumCharCountNorm']=df['NumCharCountNorm'].apply(lambda x: x*100)\n",
    "\n",
    "\n",
    "conditions  = [(df['Email'].isnull()),(df['Email'].notnull())]\n",
    "choices     = [(df['EmailTextCount'].fillna(df['EmailTextCount'].mean())),(df['EmailTextCount'].fillna(df['EmailTextCount'].min()))]\n",
    "df[\"EmailTextCount \"] = np.select(conditions, choices, default='')\n",
    "df['EmailTextCount '] = df['EmailTextCount '].astype(float)\n",
    "df['EmailTextCountNorm'] = (df['EmailTextCount ']-df['EmailTextCount '].min())/(df['EmailTextCount '].max()-df['EmailTextCount '].min())\n",
    "df['EmailTextCountNorm']=df['EmailTextCountNorm'].apply(lambda x: x*100)\n"
   ]
  },
  {
   "cell_type": "code",
   "execution_count": 154,
   "metadata": {},
   "outputs": [],
   "source": [
    "conditions  = [(df['CountryMatching(IP)'] == \"Valid\"),(df['CountryMatching(IP)']=='Invalid')]\n",
    "choices     = [0,1]\n",
    "df['CountryMatching'] = np.select(conditions, choices, default=0.001)"
   ]
  },
  {
   "cell_type": "code",
   "execution_count": 155,
   "metadata": {},
   "outputs": [],
   "source": [
    "#df['CountryMatchingNorm'] = (df['CountryMatching']-df['CountryMatching'].min())/(df['CountryMatching'].max()-df['CountryMatching'].min())\n",
    "df['CountryMatchingNorm']=df['CountryMatching'].apply(lambda x: x*100)"
   ]
  },
  {
   "cell_type": "code",
   "execution_count": 156,
   "metadata": {},
   "outputs": [],
   "source": [
    "conditions  = [(df['StateMatching'] == \"Match\"),(df['StateMatching']=='Mismatch'),(df['StateMatching']=='Invalid')]\n",
    "choices     = [0,1,1]\n",
    "df['StateMatching '] = np.select(conditions, choices, default=0.21)"
   ]
  },
  {
   "cell_type": "code",
   "execution_count": 157,
   "metadata": {},
   "outputs": [],
   "source": [
    "#df['StateMatchingNorm'] = (df['StateMatching ']-df['StateMatching '].min())/(df['StateMatching '].max()-df['StateMatching '].min())\n",
    "df['StateMatchingNorm']=df['StateMatching '].apply(lambda x: x*100)"
   ]
  },
  {
   "cell_type": "code",
   "execution_count": 158,
   "metadata": {},
   "outputs": [],
   "source": [
    "conditions  = [(df['LocalityMatching'] == \"Match\"),(df['LocalityMatching']=='Mismatch'),(df['LocalityMatching']=='Invalid')]\n",
    "choices     = [0,1,1]\n",
    "df['LocalityMatching '] = np.select(conditions, choices, default=0.605)"
   ]
  },
  {
   "cell_type": "code",
   "execution_count": 159,
   "metadata": {},
   "outputs": [],
   "source": [
    "#df['LocalityMatchingNorm'] = (df['LocalityMatching ']-df['LocalityMatching '].min())/(df['LocalityMatching '].max()-df['LocalityMatching '].min())\n",
    "df['LocalityMatchingNorm'] = df['LocalityMatching '].apply(lambda x: x*100)"
   ]
  },
  {
   "cell_type": "code",
   "execution_count": 160,
   "metadata": {},
   "outputs": [],
   "source": [
    "conditions  = [(df['ZipcodeMatch-UserEntered&IP'] == \"Match\"),(df['ZipcodeMatch-UserEntered&IP']=='Mismatch')]\n",
    "choices     = [0,1]\n",
    "df['ZipcodeMatch-UserEntered&IP '] = np.select(conditions, choices, default=0.67)"
   ]
  },
  {
   "cell_type": "code",
   "execution_count": 161,
   "metadata": {},
   "outputs": [],
   "source": [
    "#df['ZipcodeMatch-UserEntered&IPNorm'] = (df['ZipcodeMatch-UserEntered&IP ']-df['ZipcodeMatch-UserEntered&IP '].min())/(df['ZipcodeMatch-UserEntered&IP '].max()-df['ZipcodeMatch-UserEntered&IP '].min())\n",
    "df['ZipcodeMatch-UserEntered&IPNorm']=df['ZipcodeMatch-UserEntered&IP '].apply(lambda x: x*100)"
   ]
  },
  {
   "cell_type": "code",
   "execution_count": 162,
   "metadata": {},
   "outputs": [],
   "source": [
    "conditions  = [(df['CountryCodeMatching(Mobile)'] == \"Valid\"),(df['CountryCodeMatching(Mobile)']=='Invalid')]\n",
    "choices     = [0,1]\n",
    "df['CountryCodeMatching(Mobile) '] = np.select(conditions, choices, default=0.001)"
   ]
  },
  {
   "cell_type": "code",
   "execution_count": 163,
   "metadata": {},
   "outputs": [],
   "source": [
    "#df['CountryCodeMatching(Mobile)Norm'] = (df['CountryCodeMatching(Mobile) ']-df['CountryCodeMatching(Mobile) '].min())/(df['CountryCodeMatching(Mobile) '].max()-df['CountryCodeMatching(Mobile) '].min())\n",
    "df['CountryCodeMatching(Mobile)Norm']=df['CountryCodeMatching(Mobile) '].apply(lambda x: x*100)"
   ]
  },
  {
   "cell_type": "code",
   "execution_count": 164,
   "metadata": {},
   "outputs": [],
   "source": [
    "# # Registration Date/Time\n",
    "df['IsBdayFlag(Month)'] = np.where(df['IsBdayFlag(Month)']=='flag',1,0)\n",
    "#df['IsBdayFlag(Month)Norm'] = (df['IsBdayFlag(Month)']-df['IsBdayFlag(Month)'].min())/(df['IsBdayFlag(Month)'].max()-df['IsBdayFlag(Month)'].min())\n",
    "df['IsBdayFlag(Month)Norm']=df['IsBdayFlag(Month)'].apply(lambda x: x*100)\n",
    "\n",
    "# In[22]:\n",
    "df['IsBdayFlag(Day)'] = np.where(df['IsBdayFlag(Day)']=='flag',1,0)\n",
    "#df['IsBdayFlag(Day)Norm'] = (df['IsBdayFlag(Day)']-df['IsBdayFlag(Day)'].min())/(df['IsBdayFlag(Day)'].max()-df['IsBdayFlag(Day)'].min())\n",
    "df['IsBdayFlag(Day)Norm']=df['IsBdayFlag(Day)'].apply(lambda x: x*100)\n",
    "df['DeviationLoginTime-Hr'] = np.where(df['DeviationLoginTime-Hr']=='flag',1,0)\n",
    "df['DeviationLoginTime-HrNorm'] = (df['DeviationLoginTime-Hr']-df['DeviationLoginTime-Hr'].min())/(df['DeviationLoginTime-Hr'].max()-df['DeviationLoginTime-Hr'].min())\n",
    "df['DeviationLoginTime-HrNorm']=df['DeviationLoginTime-HrNorm'].apply(lambda x: x*100)\n",
    "df['DeviationLoginTime-Min'] = np.where(df['DeviationLoginTime-Min']=='flag',1,0)\n",
    "df['DeviationLoginTime-MinNorm'] = (df['DeviationLoginTime-Min']-df['DeviationLoginTime-Min'].min())/(df['DeviationLoginTime-Min'].max()-df['DeviationLoginTime-Min'].min())\n",
    "df['DeviationLoginTime-MinNorm']=df['DeviationLoginTime-MinNorm'].apply(lambda x: x*100)\n",
    "\n"
   ]
  },
  {
   "cell_type": "markdown",
   "metadata": {},
   "source": [
    "## High-level Indexing"
   ]
  },
  {
   "cell_type": "code",
   "execution_count": 165,
   "metadata": {},
   "outputs": [],
   "source": [
    "score= []\n",
    "for value in df['MultipleSameNameReg']:\n",
    "    if value<=2:\n",
    "        score.append(1)\n",
    "    elif value>2 and value<=5:\n",
    "        score.append(10)\n",
    "    elif value>5 and value<=10:\n",
    "        score.append(20)\n",
    "    elif value>10 and value<=20:\n",
    "        score.append(30)\n",
    "    elif value>20 and value<=50:\n",
    "        score.append(50)\n",
    "    elif value>50 and value<=70:\n",
    "        score.append(70)\n",
    "    elif value>70 and value<=100:\n",
    "        score.append(90)\n",
    "    else:\n",
    "        score.append(100)\n",
    "df['MultipleRegistrations']= score        "
   ]
  },
  {
   "cell_type": "code",
   "execution_count": 166,
   "metadata": {},
   "outputs": [
    {
     "data": {
      "text/plain": [
       "1     1455\n",
       "30      20\n",
       "10      10\n",
       "Name: MultipleRegistrations, dtype: int64"
      ]
     },
     "execution_count": 166,
     "metadata": {},
     "output_type": "execute_result"
    }
   ],
   "source": [
    "df['MultipleRegistrations'].value_counts()"
   ]
  },
  {
   "cell_type": "code",
   "execution_count": 167,
   "metadata": {},
   "outputs": [],
   "source": [
    "# # Name\n",
    "df['WtdScore'] =  df['ScoreNorm'].apply(lambda x: x*0.60)\n",
    "df['WtdGibFlag']= df['GibberishFlagNorm'].apply(lambda x: x*0.40)\n",
    "df['Name'] = df['WtdScore']+df['WtdGibFlag']\n",
    "df['Name'] = (df['Name']-df['Name'].min())/(df['Name'].max()-df['Name'].min())\n",
    "df['Name'] = df['Name'].apply(lambda x: x*100)\n",
    "\n",
    "\n",
    "# # Zipcode\n",
    "\n",
    "# In[67]:\n",
    "\n",
    "\n",
    "df['WtdPostalCodeCheckNorm'] = df['PostalCodeCheckNorm'].apply(lambda x: x*0.8)\n",
    "#df['WtdPostalCountsPerRefNorm'] = df['PostalCountsPerRefNorm'].apply(lambda x: x*0.2)\n",
    "df['Zipcode'] = df['WtdPostalCodeCheckNorm']\n",
    "df['Zipcode'] = (df['Zipcode']-df['Zipcode'].min())/(df['Zipcode'].max()-df['Zipcode'].min())\n",
    "df['Zipcode'] = df['Zipcode'].apply(lambda x: x*100)\n",
    "\n",
    "\n",
    "# # Device\n",
    "\n",
    "# In[68]:\n",
    "\n",
    "\n",
    "df['WtdUsersPerMetaDataNorm'] = df['UsersPerMetaDataNorm'].apply(lambda x: x*0.4)\n",
    "df['WtdUserCountPerSimIdNorm'] = df['UserCountPerSimId '].apply(lambda x: x*0.2)\n",
    "df['WtdUserCountPerDeviceIdNorm'] = df['UserCountPerDeviceIdNorm'].apply(lambda x: x*0.4)\n",
    "df['Device'] = df['WtdUsersPerMetaDataNorm']+df['WtdUserCountPerDeviceIdNorm']+df['WtdUserCountPerSimIdNorm']\n",
    "df['Device'] = (df['Device']-df['Device'].min())/(df['Device'].max()-df['Device'].min())\n",
    "df['Device'] = df['Device'].apply(lambda x: x*100)\n",
    "\n",
    "\n",
    "# # Reg Date/Time\n",
    "\n",
    "df['WtdIsBdayFlag(Month)Norm'] = df['IsBdayFlag(Month)Norm'].apply(lambda x: x*0.18)\n",
    "df['WtdIsBdayFlag(Day)Norm'] = df['IsBdayFlag(Day)Norm'].apply(lambda x: x*0.35)\n",
    "df['WtdDeviationLoginTime-HrNorm']=df['DeviationLoginTime-HrNorm'].apply(lambda x: x*0.02)\n",
    "df['WtdDeviationLoginTime-MinNorm']=df['DeviationLoginTime-MinNorm'].apply(lambda x: x*0.02)\n",
    "df['Reg Date/Time'] = df['WtdIsBdayFlag(Month)Norm'] + df['WtdIsBdayFlag(Day)Norm'] + df['WtdDeviationLoginTime-HrNorm'] + df['WtdDeviationLoginTime-MinNorm']\n",
    "df['Reg Date/Time'] = (df['Reg Date/Time']-df['Reg Date/Time'].min())/(df['Reg Date/Time'].max()-df['Reg Date/Time'].min())\n",
    "df['Reg Date/Time'] = df['Reg Date/Time'].apply(lambda x: x*100)\n",
    "\n",
    "\n",
    "# # IP\n",
    "\n",
    "# In[65]:\n",
    "\n",
    "\n",
    "df['WtdUserCountsPerIPNorm']=df['UserCountsPerIPNorm'].apply(lambda x: x*0.7)\n",
    "df['WtdUsersPerBlock1Norm']=df['UsersPerBlock1Norm'].apply(lambda x: x*0.2)\n",
    "df['WtdUsersPerBlock2Norm']=df['UsersPerBlock2Norm'].apply(lambda x: x*0.1)\n",
    "df['WtdUsersPerBlock3Norm']=df['UsersPerBlock3Norm'].apply(lambda x: x*0.03)\n",
    "df['WtdCountryMatchingNorm']=df['CountryMatchingNorm'].apply(lambda x: x*0.03)\n",
    "df['WtdStateMatchingNorm']=df['StateMatchingNorm'].apply(lambda x: x*0.02)\n",
    "df['WtdLocalityMatchingNorm']=df['LocalityMatchingNorm'].apply(lambda x: x*0.01)\n",
    "df['WtdZipcodeMatch-UserEntered&IPNorm']=df['ZipcodeMatch-UserEntered&IPNorm'].apply(lambda x: x*0.05)\n",
    "df['WtdCountryCodeMatching(Mobile)Norm']=df['CountryCodeMatching(Mobile)Norm'].apply(lambda x: x*0.02)\n",
    "\n",
    "# with the api related features \n",
    "df['IP&Phone']=df['WtdUserCountsPerIPNorm']+df['WtdUsersPerBlock1Norm']+df['WtdUsersPerBlock2Norm']+df['WtdUsersPerBlock3Norm']+df['WtdCountryMatchingNorm']+df['WtdStateMatchingNorm']+df['WtdLocalityMatchingNorm']+df['WtdZipcodeMatch-UserEntered&IPNorm']+df['WtdCountryCodeMatching(Mobile)Norm']\n",
    "df['IP&Phone'] = (df['IP&Phone']-df['IP&Phone'].min())/(df['IP&Phone'].max()-df['IP&Phone'].min())\n",
    "df['IP&Phone'] = df['IP&Phone'].apply(lambda x: x*100)\n",
    "\n",
    "\n",
    "# # Referral Codes\n",
    "df['WtdRefCodesVelocityNorm'] = df['RefCodesVelocityNorm'].apply(lambda x: x*1.0)\n",
    "df['ReferralCode'] = df['WtdRefCodesVelocityNorm']\n",
    "df['ReferralCode'] = (df['ReferralCode']-df['ReferralCode'].min())/(df['ReferralCode'].max()-df['ReferralCode'].min())\n",
    "df['ReferralCode'] = df['ReferralCode'].apply(lambda x: x*100)\n",
    "\n",
    "\n",
    "# # Email\n",
    "\n",
    "df['SpclCharCountNorm']=df['SpclCharCountNorm'].apply(lambda x: x*0.25)\n",
    "df[\"PlusCharFlagNorm\"]=df[\"PlusCharFlag \"].apply(lambda x: x*75)\n",
    "df['NumCharCountNorm'] = df['NumCharCountNorm'].apply(lambda x: x*0.15)\n",
    "df['EmailTextCountNorm'] = df['EmailTextCountNorm'].apply(lambda x: x*0.25)\n",
    "df['Email '] = df['EmailTextCountNorm']+df['NumCharCountNorm']+df['SpclCharCountNorm']+df['PlusCharFlagNorm']\n",
    "df['Email '] = (df['Email ']-df['Email '].min())/(df['Email '].max()-df['Email '].min())\n",
    "df['Email '] = df['Email '].apply(lambda x: x*100)"
   ]
  },
  {
   "cell_type": "code",
   "execution_count": 168,
   "metadata": {},
   "outputs": [],
   "source": [
    "df['Name'] = df['Name'].round(2)\n",
    "df['Device'] = df['Device'].round(2)\n",
    "df['Zipcode'] = df['Zipcode'].round(2)\n",
    "df['IP&Phone'] = df['IP&Phone'].round(2)\n",
    "df['Reg Date/Time'] = df['Reg Date/Time'].round(2)\n",
    "df['ReferralCode'] = df['ReferralCode'].round(2)\n",
    "df['Email '] = df['Email '].round(2)"
   ]
  },
  {
   "cell_type": "code",
   "execution_count": 169,
   "metadata": {},
   "outputs": [],
   "source": [
    "df['wtdName'] = df['Name'].apply(lambda x: x*0.3)\n",
    "df['wtdMultipleReg']=df['MultipleRegistrations'].apply(lambda x: x*0.28)\n",
    "df['wtdZipcode'] =  df['Zipcode'].apply(lambda x: x*0.15)\n",
    "df['wtdDevice'] =  df['Device'].apply(lambda x: x*0.2)\n",
    "df['wtdIP&Phone']= df['IP&Phone'].apply(lambda x: x*0.12)\n",
    "df['wtdReg Date/Time'] =  df['Reg Date/Time'].apply(lambda x: x*0.25)\n",
    "df['wtdReferralCode'] =  df['ReferralCode'].apply(lambda x: x*0.3)\n",
    "df['wtdEmail']= df['Email '].apply(lambda x: x*0.1)\n",
    "\n",
    "# In[33]:\n",
    "\n",
    "\n",
    "df['Registration_Abuse_Score'] = df['wtdMultipleReg']+df['wtdName']+df['wtdZipcode']+df['wtdDevice']+df['wtdIP&Phone']+df['wtdReg Date/Time']+df['wtdReferralCode']+df['wtdEmail'] \n",
    "df['Registration_Abuse_Score'] = (df['Registration_Abuse_Score']-df['Registration_Abuse_Score'].min())/(df['Registration_Abuse_Score'].max()-df['Registration_Abuse_Score'].min())\n",
    "df['Registration_Abuse_Score'] = df['Registration_Abuse_Score'].apply(lambda x: x*100)\n",
    "\n",
    "df['Registration_Abuse_Score']=df['Registration_Abuse_Score'].round(2)"
   ]
  },
  {
   "cell_type": "code",
   "execution_count": 170,
   "metadata": {},
   "outputs": [],
   "source": [
    "df['Registration_Abuse_Score'] = np.where(df['Vowels']==0,100,df['Registration_Abuse_Score'])\n",
    "df['Registration_Abuse_Score'] = np.where(df['UserCountsPerIP']>=20,100,df['Registration_Abuse_Score'])\n",
    "df['Registration_Abuse_Score'] = np.where(df['PlusCharFlag']==1,100,df['Registration_Abuse_Score'])"
   ]
  },
  {
   "cell_type": "code",
   "execution_count": 171,
   "metadata": {},
   "outputs": [
    {
     "data": {
      "text/plain": [
       "['FirstName',\n",
       " 'MiddleName',\n",
       " 'LastName',\n",
       " 'Dob',\n",
       " 'Gender',\n",
       " 'UserId',\n",
       " 'Status',\n",
       " 'Email',\n",
       " 'Mobile',\n",
       " 'ProgramId',\n",
       " 'ProgramName',\n",
       " 'PostalCode',\n",
       " 'BadTryCount',\n",
       " 'LastBadLoginTryTime',\n",
       " 'LastLoginTime',\n",
       " 'LastPinChangeTime',\n",
       " 'PresentLoginTime',\n",
       " 'RegisteredOn',\n",
       " 'OS Type',\n",
       " 'Reg Referral Code',\n",
       " 'Reg Referral Prefix',\n",
       " 'Ref PC AC Number',\n",
       " 'Reg Client IP',\n",
       " 'Device Id',\n",
       " 'Sim Id',\n",
       " ' Meta Data',\n",
       " 'FirstNameLower',\n",
       " 'MiddleNameLower',\n",
       " 'LastNameLower',\n",
       " 'FullName',\n",
       " 'Score',\n",
       " 'IsGibberish',\n",
       " 'FirstNameLen',\n",
       " 'MiddleNameLen',\n",
       " 'LastNameLen',\n",
       " 'TotalNameLength',\n",
       " 'EnglishWordsCount',\n",
       " 'EnglishWords',\n",
       " 'TotalWordsCount',\n",
       " 'PctEnglishWordsCount',\n",
       " 'Vowels',\n",
       " 'MultipleSameNameReg',\n",
       " 'RegMonth',\n",
       " 'RegDay',\n",
       " 'DobCleaned',\n",
       " 'DobMonth',\n",
       " 'DobDay',\n",
       " 'IsBdayFlag(Month)',\n",
       " 'IsBdayFlag(Day)',\n",
       " 'LastLoginTime(sec)',\n",
       " 'LastLoginTime(hr)',\n",
       " 'LastLoginTime(min)',\n",
       " 'RegisteredOn(Hour)',\n",
       " 'RegisteredOn(Min)',\n",
       " 'LoginTimeInHrs',\n",
       " 'LoginTimeInMin',\n",
       " 'AverageLoginTime(Hours)',\n",
       " 'AverageLoginTime(Min)',\n",
       " 'DeviationFromAvgLoginTime(Hrs)',\n",
       " 'DeviationFromAvgLoginTime(Min)',\n",
       " 'DeviationLoginTime-Hr',\n",
       " 'DeviationLoginTime-Min',\n",
       " 'UsersPerEmail',\n",
       " 'Domain',\n",
       " 'DomainCount',\n",
       " 'EmailBody',\n",
       " 'EmailCheck',\n",
       " 'SpclChar_InEmail',\n",
       " 'SpclCharCount',\n",
       " 'SpclCharFlag',\n",
       " 'PlusCharFlag',\n",
       " 'NumChar_InEmail',\n",
       " 'NumCharCount',\n",
       " 'NumCharFlag',\n",
       " 'Email_text',\n",
       " 'EmailTextCount',\n",
       " 'EmailTextFlag',\n",
       " 'PostalCodeCounts',\n",
       " 'PostalCodeCheck',\n",
       " 'RegionName_govdata',\n",
       " 'CircleName_govdata',\n",
       " 'Taluk_govdata',\n",
       " 'DistrictName_govdata',\n",
       " 'StateName_govdata',\n",
       " 'PostalCountsPerRef',\n",
       " 'UsersPerAccount',\n",
       " 'UserCountsPerIP',\n",
       " 'IPBlock1',\n",
       " 'UsersPerBlock1',\n",
       " 'IPBlock2',\n",
       " 'UsersPerBlock2',\n",
       " 'IPBlock3',\n",
       " 'UsersPerBlock3',\n",
       " 'UserCountPerDeviceId',\n",
       " 'UserCountPerSimId',\n",
       " 'UsersPerMetaData',\n",
       " 'RefCodeVelocity',\n",
       " 'CountryCodeIP_API',\n",
       " 'CountryNameIP_API',\n",
       " 'RegionNameIP_API',\n",
       " 'CityNameIP_API',\n",
       " 'latitude',\n",
       " 'longitude',\n",
       " 'ZipcodeIP_API',\n",
       " 'Mobile_API',\n",
       " 'IsValidMobile_API',\n",
       " 'LocalFormatMobile_API',\n",
       " 'IntFormatMobile_API',\n",
       " 'CountryPrefixMobile_API',\n",
       " 'CountryCodeMobile_API',\n",
       " 'LocationMobile_API',\n",
       " 'CarrierMobile_API',\n",
       " 'LineTypeMobile_API',\n",
       " 'CountryMatching(IP)',\n",
       " 'CountryCodeMatching(IP)',\n",
       " 'CountryCodeMatching(Mobile)',\n",
       " 'ExtractedPinDigits(State)',\n",
       " 'ExtractedPinDigits(IP-State)',\n",
       " 'StateMatching',\n",
       " 'ExtractedPinDigits(Locality)',\n",
       " 'ExtractedPinDigits(IP-Locality)',\n",
       " 'LocalityMatching',\n",
       " 'ZipcodeMatch-UserEntered&IP',\n",
       " 'ScoreNorm',\n",
       " 'ScoreNormRev',\n",
       " 'GibberishFlagNorm',\n",
       " 'UsersPerMetaData ',\n",
       " 'UsersPerMetaDataNorm',\n",
       " 'UserCountPerDeviceId ',\n",
       " 'UserCountPerDeviceIdNorm',\n",
       " 'UserCountPerSimId ',\n",
       " 'UserCountPerSimIdNorm',\n",
       " 'PostalCodeCheck ',\n",
       " 'PostalCodeCheckNorm',\n",
       " 'UserCountsPerIPNorm',\n",
       " 'UsersPerBlock1Norm',\n",
       " 'UsersPerBlock2Norm',\n",
       " 'UsersPerBlock3Norm',\n",
       " 'RefCodesVelocity',\n",
       " 'RefCodesVelocityNorm',\n",
       " 'SpclCharCount ',\n",
       " 'SpclCharCountNorm',\n",
       " 'PlusCharFlag ',\n",
       " 'NumCharCount ',\n",
       " 'NumCharCountNorm',\n",
       " 'EmailTextCount ',\n",
       " 'EmailTextCountNorm',\n",
       " 'CountryMatching',\n",
       " 'CountryMatchingNorm',\n",
       " 'StateMatching ',\n",
       " 'StateMatchingNorm',\n",
       " 'LocalityMatching ',\n",
       " 'LocalityMatchingNorm',\n",
       " 'ZipcodeMatch-UserEntered&IP ',\n",
       " 'ZipcodeMatch-UserEntered&IPNorm',\n",
       " 'CountryCodeMatching(Mobile) ',\n",
       " 'CountryCodeMatching(Mobile)Norm',\n",
       " 'IsBdayFlag(Month)Norm',\n",
       " 'IsBdayFlag(Day)Norm',\n",
       " 'DeviationLoginTime-HrNorm',\n",
       " 'DeviationLoginTime-MinNorm',\n",
       " 'MultipleRegistrations',\n",
       " 'WtdScore',\n",
       " 'WtdGibFlag',\n",
       " 'Name',\n",
       " 'WtdPostalCodeCheckNorm',\n",
       " 'Zipcode',\n",
       " 'WtdUsersPerMetaDataNorm',\n",
       " 'WtdUserCountPerSimIdNorm',\n",
       " 'WtdUserCountPerDeviceIdNorm',\n",
       " 'Device',\n",
       " 'WtdIsBdayFlag(Month)Norm',\n",
       " 'WtdIsBdayFlag(Day)Norm',\n",
       " 'WtdDeviationLoginTime-HrNorm',\n",
       " 'WtdDeviationLoginTime-MinNorm',\n",
       " 'Reg Date/Time',\n",
       " 'WtdUserCountsPerIPNorm',\n",
       " 'WtdUsersPerBlock1Norm',\n",
       " 'WtdUsersPerBlock2Norm',\n",
       " 'WtdUsersPerBlock3Norm',\n",
       " 'WtdCountryMatchingNorm',\n",
       " 'WtdStateMatchingNorm',\n",
       " 'WtdLocalityMatchingNorm',\n",
       " 'WtdZipcodeMatch-UserEntered&IPNorm',\n",
       " 'WtdCountryCodeMatching(Mobile)Norm',\n",
       " 'IP&Phone',\n",
       " 'WtdRefCodesVelocityNorm',\n",
       " 'ReferralCode',\n",
       " 'PlusCharFlagNorm',\n",
       " 'Email ',\n",
       " 'wtdName',\n",
       " 'wtdMultipleReg',\n",
       " 'wtdZipcode',\n",
       " 'wtdDevice',\n",
       " 'wtdIP&Phone',\n",
       " 'wtdReg Date/Time',\n",
       " 'wtdReferralCode',\n",
       " 'wtdEmail',\n",
       " 'Registration_Abuse_Score']"
      ]
     },
     "execution_count": 171,
     "metadata": {},
     "output_type": "execute_result"
    }
   ],
   "source": [
    "df.columns.tolist()"
   ]
  },
  {
   "cell_type": "markdown",
   "metadata": {},
   "source": [
    "### Developing a reason code for the main driver leading to a high/low prime indicator "
   ]
  },
  {
   "cell_type": "code",
   "execution_count": 172,
   "metadata": {},
   "outputs": [],
   "source": [
    "#initialize a null string and keep on appending if the condition is true(csv)"
   ]
  },
  {
   "cell_type": "code",
   "execution_count": 173,
   "metadata": {},
   "outputs": [],
   "source": [
    "#conditions  = [((df['Name'] > 60) & (df['Zipcode']>60)&(df['Email ']>60)),((df['Name']>60) & (df['Zipcode']>60)&(df['Reg Date/Time']>60)),((df['Name']>60) & (df['Zipcode']>60)&(df['Device']>60)),((df['Name']>60) & (df['Reg Date/Time']>60)),((df['Name']>60) & (df['Zipcode']>60)),((df['Name']>60) & (df['Email ']>60)),((df['Name']>60) & (df['ReferralCode']>60)),(df['Name']>60), (df['Zipcode']>60) ,(df['Email ']>60),((df['Reg Date/Time']>60)&(df['ReferralCode']>60)),((df['Reg Date/Time']>60)&(df['Zipcode']>60)),(df['Reg Date/Time']>60)]\n",
    "#choices     = ['Name,Zipcode,Email','Name,Zipcode,Reg Date/Time','Name,Zipcode,Device','Name,Reg Date/Time','Name,Zipcode','Name,Email','Name,ReferralCode','Name','Zipcode','Email','Reg Date/Time,ReferralCode','Reg Date/Time,Zipcode','Reg Date/Time']\n",
    "#df[\"Reason\"] = np.select(conditions, choices, default='')"
   ]
  },
  {
   "cell_type": "code",
   "execution_count": 174,
   "metadata": {},
   "outputs": [],
   "source": [
    "df['name'] = np.where(df['IsGibberish']==1,'Name','')"
   ]
  },
  {
   "cell_type": "code",
   "execution_count": 175,
   "metadata": {},
   "outputs": [],
   "source": [
    "df['multiplereg'] = np.where(df['MultipleRegistrations']>=30,'Multiple_Registrations_With_Same_Name','')"
   ]
  },
  {
   "cell_type": "code",
   "execution_count": 176,
   "metadata": {},
   "outputs": [],
   "source": [
    "df['zipcode'] = np.where(df['PostalCodeCheck ']==1.000,'Zipcode','')"
   ]
  },
  {
   "cell_type": "code",
   "execution_count": 177,
   "metadata": {},
   "outputs": [],
   "source": [
    "df['email'] = np.where(df['Email ']>60,'Email','')"
   ]
  },
  {
   "cell_type": "code",
   "execution_count": 178,
   "metadata": {},
   "outputs": [],
   "source": [
    "df['device'] = np.where(df['Device']>=45,'Device','')"
   ]
  },
  {
   "cell_type": "code",
   "execution_count": 179,
   "metadata": {},
   "outputs": [],
   "source": [
    "df['reg']=np.where(df['Reg Date/Time']>=60,'Reg Date/Time','')"
   ]
  },
  {
   "cell_type": "code",
   "execution_count": 180,
   "metadata": {},
   "outputs": [],
   "source": [
    "df['ip&ph']=np.where(df['IP&Phone']>50,'IP&Phone','')"
   ]
  },
  {
   "cell_type": "code",
   "execution_count": 181,
   "metadata": {},
   "outputs": [],
   "source": [
    "df['ref']=np.where(df['ReferralCode']>60,'Referral Code','')"
   ]
  },
  {
   "cell_type": "code",
   "execution_count": 182,
   "metadata": {},
   "outputs": [
    {
     "name": "stdout",
     "output_type": "stream",
     "text": [
      "['FirstName', 'MiddleName', 'LastName', 'Dob', 'Gender', 'UserId', 'Status', 'Email', 'Mobile', 'ProgramId', 'ProgramName', 'PostalCode', 'BadTryCount', 'LastBadLoginTryTime', 'LastLoginTime', 'LastPinChangeTime', 'PresentLoginTime', 'RegisteredOn', 'OS Type', 'Reg Referral Code', 'Reg Referral Prefix', 'Ref PC AC Number', 'Reg Client IP', 'Device Id', 'Sim Id', ' Meta Data', 'FirstNameLower', 'MiddleNameLower', 'LastNameLower', 'FullName', 'Score', 'IsGibberish', 'FirstNameLen', 'MiddleNameLen', 'LastNameLen', 'TotalNameLength', 'EnglishWordsCount', 'EnglishWords', 'TotalWordsCount', 'PctEnglishWordsCount', 'Vowels', 'MultipleSameNameReg', 'RegMonth', 'RegDay', 'DobCleaned', 'DobMonth', 'DobDay', 'IsBdayFlag(Month)', 'IsBdayFlag(Day)', 'LastLoginTime(sec)', 'LastLoginTime(hr)', 'LastLoginTime(min)', 'RegisteredOn(Hour)', 'RegisteredOn(Min)', 'LoginTimeInHrs', 'LoginTimeInMin', 'AverageLoginTime(Hours)', 'AverageLoginTime(Min)', 'DeviationFromAvgLoginTime(Hrs)', 'DeviationFromAvgLoginTime(Min)', 'DeviationLoginTime-Hr', 'DeviationLoginTime-Min', 'UsersPerEmail', 'Domain', 'DomainCount', 'EmailBody', 'EmailCheck', 'SpclChar_InEmail', 'SpclCharCount', 'SpclCharFlag', 'PlusCharFlag', 'NumChar_InEmail', 'NumCharCount', 'NumCharFlag', 'Email_text', 'EmailTextCount', 'EmailTextFlag', 'PostalCodeCounts', 'PostalCodeCheck', 'RegionName_govdata', 'CircleName_govdata', 'Taluk_govdata', 'DistrictName_govdata', 'StateName_govdata', 'PostalCountsPerRef', 'UsersPerAccount', 'UserCountsPerIP', 'IPBlock1', 'UsersPerBlock1', 'IPBlock2', 'UsersPerBlock2', 'IPBlock3', 'UsersPerBlock3', 'UserCountPerDeviceId', 'UserCountPerSimId', 'UsersPerMetaData', 'RefCodeVelocity', 'CountryCodeIP_API', 'CountryNameIP_API', 'RegionNameIP_API', 'CityNameIP_API', 'latitude', 'longitude', 'ZipcodeIP_API', 'Mobile_API', 'IsValidMobile_API', 'LocalFormatMobile_API', 'IntFormatMobile_API', 'CountryPrefixMobile_API', 'CountryCodeMobile_API', 'LocationMobile_API', 'CarrierMobile_API', 'LineTypeMobile_API', 'CountryMatching(IP)', 'CountryCodeMatching(IP)', 'CountryCodeMatching(Mobile)', 'ExtractedPinDigits(State)', 'ExtractedPinDigits(IP-State)', 'StateMatching', 'ExtractedPinDigits(Locality)', 'ExtractedPinDigits(IP-Locality)', 'LocalityMatching', 'ZipcodeMatch-UserEntered&IP', 'ScoreNorm', 'ScoreNormRev', 'GibberishFlagNorm', 'UsersPerMetaData ', 'UsersPerMetaDataNorm', 'UserCountPerDeviceId ', 'UserCountPerDeviceIdNorm', 'UserCountPerSimId ', 'UserCountPerSimIdNorm', 'PostalCodeCheck ', 'PostalCodeCheckNorm', 'UserCountsPerIPNorm', 'UsersPerBlock1Norm', 'UsersPerBlock2Norm', 'UsersPerBlock3Norm', 'RefCodesVelocity', 'RefCodesVelocityNorm', 'SpclCharCount ', 'SpclCharCountNorm', 'PlusCharFlag ', 'NumCharCount ', 'NumCharCountNorm', 'EmailTextCount ', 'EmailTextCountNorm', 'CountryMatching', 'CountryMatchingNorm', 'StateMatching ', 'StateMatchingNorm', 'LocalityMatching ', 'LocalityMatchingNorm', 'ZipcodeMatch-UserEntered&IP ', 'ZipcodeMatch-UserEntered&IPNorm', 'CountryCodeMatching(Mobile) ', 'CountryCodeMatching(Mobile)Norm', 'IsBdayFlag(Month)Norm', 'IsBdayFlag(Day)Norm', 'DeviationLoginTime-HrNorm', 'DeviationLoginTime-MinNorm', 'MultipleRegistrations', 'WtdScore', 'WtdGibFlag', 'Name', 'WtdPostalCodeCheckNorm', 'Zipcode', 'WtdUsersPerMetaDataNorm', 'WtdUserCountPerSimIdNorm', 'WtdUserCountPerDeviceIdNorm', 'Device', 'WtdIsBdayFlag(Month)Norm', 'WtdIsBdayFlag(Day)Norm', 'WtdDeviationLoginTime-HrNorm', 'WtdDeviationLoginTime-MinNorm', 'Reg Date/Time', 'WtdUserCountsPerIPNorm', 'WtdUsersPerBlock1Norm', 'WtdUsersPerBlock2Norm', 'WtdUsersPerBlock3Norm', 'WtdCountryMatchingNorm', 'WtdStateMatchingNorm', 'WtdLocalityMatchingNorm', 'WtdZipcodeMatch-UserEntered&IPNorm', 'WtdCountryCodeMatching(Mobile)Norm', 'IP&Phone', 'WtdRefCodesVelocityNorm', 'ReferralCode', 'PlusCharFlagNorm', 'Email ', 'wtdName', 'wtdMultipleReg', 'wtdZipcode', 'wtdDevice', 'wtdIP&Phone', 'wtdReg Date/Time', 'wtdReferralCode', 'wtdEmail', 'Registration_Abuse_Score', 'name', 'multiplereg', 'zipcode', 'email', 'device', 'reg', 'ip&ph', 'ref']\n"
     ]
    }
   ],
   "source": [
    "print(df.columns.tolist())"
   ]
  },
  {
   "cell_type": "code",
   "execution_count": 183,
   "metadata": {},
   "outputs": [],
   "source": [
    "df['PostalCode'] = df['PostalCode'].astype(str)"
   ]
  },
  {
   "cell_type": "code",
   "execution_count": 184,
   "metadata": {},
   "outputs": [],
   "source": [
    "r = df.apply(lambda x: x.zipcode + ' ' + x.PostalCode, axis=1)\n",
    "#df['zipcode'] = np.where(df['zipcode']== 'Zipcode nan','Zipcode -','')"
   ]
  },
  {
   "cell_type": "code",
   "execution_count": 185,
   "metadata": {},
   "outputs": [],
   "source": [
    "df['zipcode'] = np.where(df['zipcode']=='Zipcode',r,'')"
   ]
  },
  {
   "cell_type": "code",
   "execution_count": 186,
   "metadata": {},
   "outputs": [],
   "source": [
    "df['Reason'] = df[['name','multiplereg','zipcode','email','device','reg','ref','ip&ph']].apply(lambda x: ' '.join(x.fillna(' ').map(str)), axis=1)\n",
    "df['Reason'] = df['Reason'].str.strip(' ')\n"
   ]
  },
  {
   "cell_type": "code",
   "execution_count": 187,
   "metadata": {},
   "outputs": [
    {
     "data": {
      "text/plain": [
       "                                                     1075\n",
       "Reg Date/Time                                          77\n",
       "Name     Reg Date/Time  IP&Phone                       67\n",
       "Name     Reg Date/Time                                 33\n",
       "Reg Date/Time  IP&Phone                                30\n",
       "                                                     ... \n",
       "Name  Zipcode 798987.0 Email Device Reg Date/Time       1\n",
       "Name  Zipcode 565555.0 Email  Reg Date/Time             1\n",
       "Name  Zipcode 556655.0 Email Device                     1\n",
       "Zipcode 124578.0 Email Device Reg Date/Time             1\n",
       "Name  Zipcode 491616.0 Email  Reg Date/Time             1\n",
       "Name: Reason, Length: 141, dtype: int64"
      ]
     },
     "execution_count": 187,
     "metadata": {},
     "output_type": "execute_result"
    }
   ],
   "source": [
    "df['Reason'].value_counts()"
   ]
  },
  {
   "cell_type": "code",
   "execution_count": 188,
   "metadata": {},
   "outputs": [],
   "source": [
    "df = df.drop(['name','multiplereg',\n",
    "      'zipcode', 'email', 'device', 'reg', 'ref','ip&ph','ScoreNorm', 'ScoreNormRev', 'GibberishFlagNorm', 'UsersPerMetaDataNorm', 'UserCountPerDeviceIdNorm',  'PostalCodeCheckNorm', 'IsBdayFlag(Month)Norm', 'IsBdayFlag(Day)Norm', 'DeviationLoginTime-HrNorm', 'DeviationLoginTime-MinNorm', 'UserCountsPerIPNorm', 'UsersPerBlock1Norm', 'UsersPerBlock2Norm', 'UsersPerBlock3Norm', 'CountryMatching', 'CountryMatchingNorm', 'StateMatchingNorm', 'LocalityMatchingNorm', 'ZipcodeMatch-UserEntered&IPNorm', 'RefCodesVelocityNorm','NumCharCountNorm','EmailTextCountNorm','SpclCharCountNorm','RefCodesVelocity'], axis=1)"
   ]
  },
  {
   "cell_type": "markdown",
   "metadata": {},
   "source": [
    "### Dropping unecessary columns "
   ]
  },
  {
   "cell_type": "code",
   "execution_count": 189,
   "metadata": {},
   "outputs": [],
   "source": [
    "df = df.drop(['WtdScore','wtdMultipleReg', 'WtdGibFlag','CountryCodeMatching(Mobile)Norm', 'WtdPostalCodeCheckNorm', 'WtdUsersPerMetaDataNorm', 'WtdUserCountPerSimIdNorm', 'WtdUserCountPerDeviceIdNorm','WtdIsBdayFlag(Month)Norm', 'WtdIsBdayFlag(Day)Norm', 'WtdDeviationLoginTime-HrNorm', 'WtdDeviationLoginTime-MinNorm', 'WtdUserCountsPerIPNorm', 'WtdUsersPerBlock1Norm', 'WtdUsersPerBlock2Norm', 'WtdUsersPerBlock3Norm', 'WtdCountryMatchingNorm', 'WtdStateMatchingNorm', 'WtdLocalityMatchingNorm', 'WtdZipcodeMatch-UserEntered&IPNorm', 'WtdCountryCodeMatching(Mobile)Norm', 'WtdRefCodesVelocityNorm', 'wtdName', 'wtdZipcode', 'wtdDevice', 'wtdIP&Phone', 'wtdReg Date/Time', 'wtdReferralCode', 'wtdEmail','wtdName',\n",
    "      'wtdZipcode', 'wtdDevice', 'wtdReg Date/Time', 'wtdReferralCode','wtdEmail','wtdIP&Phone',\"PlusCharFlagNorm\"], axis =1)"
   ]
  },
  {
   "cell_type": "code",
   "execution_count": 190,
   "metadata": {},
   "outputs": [],
   "source": [
    "df = df.rename(columns={'Unnamed: 0':'Sno.'})"
   ]
  },
  {
   "cell_type": "code",
   "execution_count": 191,
   "metadata": {},
   "outputs": [
    {
     "data": {
      "text/plain": [
       "(1485, 146)"
      ]
     },
     "execution_count": 191,
     "metadata": {},
     "output_type": "execute_result"
    }
   ],
   "source": [
    "#df = df[['Sno.', 'FirstName', 'MiddleName', 'LastName', 'Dob', 'Gender', 'UserId', 'Status', 'Email', 'phone_numbers', 'ProgramId', 'ProgramName', 'PostalCode', 'BadTryCount', 'LastBadLoginTryTime', 'LastLoginTime', 'LastPinChangeTime', 'PresentLoginTime', 'RegisteredOn', 'OS Type', 'Reg Referral Code', 'Reg Referral Prefix', 'Ref PC AC Number', 'ip', 'Device Id', 'Sim Id', ' Meta Data', 'FirstNameLower', 'MiddleNameLower', 'LastNameLower', 'FullName', 'Score', 'IsGibberish', 'FirstNameLen', 'MiddleNameLen', 'LastNameLen', 'TotalNameLength', 'EnglishWordsCount', 'EnglishWords', 'TotalWordsCount', 'PctEnglishWordsCount', 'RegisteredOn-Month', 'RegisteredOn-Day', 'Dob*', 'Dob-Month', 'Dob-Day', 'IsBdayFlag(Month)', 'IsBdayFlag(Day)', 'LastLoginTime(sec)', 'LastLoginTime(hr)', 'LastLoginTime(min)', 'RegisteredOn(Hour)', 'RegisteredOn(Min)', 'LoginTimeInHrs', 'LoginTimeInMin', 'AverageLoginTime(Hours)', 'AverageLoginTime(Min)', 'DeviationFromAvgLoginTime(Hrs)', 'DeviationFromAvgLoginTime(Min)', 'DeviationLoginTime-Hr', 'DeviationLoginTime-Min', 'UsersPerMetaData', 'UsersPerEmail', 'Domain', 'e', 'EmailCheck', 'DomainCount', 'PostalCodeCounts', 'PostalCodeCheck', 'regionname', 'circlename', 'taluk', 'districtname', 'statename', 'PostalCountsPerRef', 'UserCountsPerIP', 'UsersPerAccount', 'IPBlock1', 'UsersPerBlock1', 'IPBlock2', 'UsersPerBlock2', 'IPBlock3', 'UsersPerBlock3', 'UserCountPerDeviceId', 'UserCountPerSimId', 'RefCodesVelocity', 'country_codeip', 'country_name', 'region_name', 'city_name', 'zip_code', 'phonenumber', 'is_valid', 'number', 'local_format', 'international_format', 'country_prefix', 'country_code', 'location', 'carrier', 'line_type', 'json', 'CountryMatching(IP)', 'CountryCodeMatching(IP)', 'CountryCodeMatching(Mobile)', 'ExtractedPinDigits', 'ExtractedPinDigits(IP)', 'StateMatching', 'LocalityMatching', 'UserEnteredZipCodeMatchingWithIPDerivedZipCode', 'ScoreNorm', 'ScoreNormRev', 'GibberishFlagNorm', 'UsersPerMetaDataNorm', 'UserCountPerDeviceIdNorm', 'PostalCodeCountsNorm', 'PostalCodeCheckNorm', 'PostalCountsPerRefNorm', 'IsBdayFlag(Month)Norm', 'IsBdayFlag(Day)Norm', 'DeviationLoginTime-HrNorm', 'DeviationLoginTime-MinNorm', 'UserCountsPerIPNorm', 'UsersPerBlock1Norm', 'UsersPerBlock2Norm', 'UsersPerBlock3Norm', 'CountryMatching', 'CountryMatchingNorm', 'StateMatchingNorm', 'LocalityMatchingNorm', 'UserEnteredZipCodeMatchingWithIPDerivedZipCodeNorm', 'RefCodesVelocityNorm', 'WtdScore', 'WtdGibFlag', 'WtdPostalCodeCountsNorm', 'WtdPostalCodeCheckNorm', 'WtdPostalCountsPerRefNorm', 'WtdUsersPerMetaDataNorm', 'WtdUserCountPerSimIdNorm', 'WtdUserCountPerDeviceIdNorm', 'WtdIsBdayFlag(Month)Norm', 'WtdIsBdayFlag(Day)Norm', 'WtdDeviationLoginTime-HrNorm', 'WtdDeviationLoginTime-MinNorm', 'WtdUserCountsPerIPNorm', 'WtdUsersPerBlock1Norm', 'WtdCountryMatchingNorm', 'WtdStateMatchingNorm', 'WtdLocalityMatchingNorm', 'WtdUserEnteredZipCodeMatchingWithIPDerivedZipCodeNorm', 'WtdRefCodesVelocityNorm', 'wtdName', 'wtdZipcode', 'wtdDevice', 'wtdReg Date/Time', 'wtdReferralCode','Name','Zipcode','Device','Reg Date/Time','IP','ReferralCode','PrimeIndicator','Reason']]\n",
    "df.shape"
   ]
  },
  {
   "cell_type": "code",
   "execution_count": 192,
   "metadata": {},
   "outputs": [],
   "source": [
    "#from matplotlib.pyplot import figure\n",
    "#df=df.sort_values('Registration_Abuse_Score')\n",
    "#sns.distplot(df['Registration_Abuse_Score'])\n",
    "#df['AbuseStatus'] = np.where(df['Registration_Abuse_Score']>60,1,0)\n",
    "#df['Decile_rank'] = pd.qcut(df['Registration_Abuse_Score'], 10, \n",
    "                            #labels = False) \n",
    "#df['Decile_rank'].value_counts()\n",
    "#sns.boxplot(df['Decile_rank'])\n",
    "#plt.figure(figsize=(10,15))\n",
    "#df['Percentile_rank'].value_counts(normalize=True).plot.bar()\n",
    "#import seaborn as sns\n",
    "#sns.boxplot(df['Registration_Abuse_Score'])\n",
    "#sns.boxplot(df['Percentile_rank'])\n",
    "#plt.figure(figsize=(10,15))\n",
    "#df['Registration_Abuse_Score'].value_counts(normalize=True).plot.bar()\n",
    "#df['Registration_Abuse_Score_Decile'] = pd.qcut(df['Percentile_rank'], 11, labels = False) "
   ]
  },
  {
   "cell_type": "code",
   "execution_count": 193,
   "metadata": {},
   "outputs": [
    {
     "data": {
      "text/plain": [
       "0        7.99\n",
       "1       10.44\n",
       "2       10.63\n",
       "3       16.95\n",
       "4       14.49\n",
       "        ...  \n",
       "1480    16.87\n",
       "1481    13.73\n",
       "1482     5.04\n",
       "1483     5.17\n",
       "1484     4.24\n",
       "Name: Registration_Abuse_Score, Length: 1485, dtype: float64"
      ]
     },
     "execution_count": 193,
     "metadata": {},
     "output_type": "execute_result"
    }
   ],
   "source": [
    "df['Registration_Abuse_Score']"
   ]
  },
  {
   "cell_type": "code",
   "execution_count": 194,
   "metadata": {},
   "outputs": [],
   "source": [
    "#df['Percentile_rank'] = pd.qcut(df['Registration_Abuse_Score'], 101, labels = False) "
   ]
  },
  {
   "cell_type": "code",
   "execution_count": 195,
   "metadata": {},
   "outputs": [
    {
     "data": {
      "text/plain": [
       "\"'rank=[]\\nfor value in df['Percentile_rank']:\\n    if value<=10:\\n        rank.append('0-10')\\n    elif value>10 and value<=20:\\n        rank.append('11-20')\\n    elif value>20 and value<=30:\\n        rank.append('21-30')\\n    elif value>30 and value<=40:\\n        rank.append('31-40')\\n    elif value>40 and value<=50:\\n        rank.append('41-50')\\n    elif value>50 and value<=60:\\n        rank.append('51-60')\\n    elif value>60 and value<=70:\\n        rank.append('61-70')\\n    elif value>70 and value<=80:\\n        rank.append('71-80')\\n    elif value>80 and value<=90:\\n        rank.append('81-90')    \\n    else:\\n        rank.append('91-100')\\ndf['Registration_Abuse_Score_Decile'] =rank  \""
      ]
     },
     "execution_count": 195,
     "metadata": {},
     "output_type": "execute_result"
    }
   ],
   "source": [
    "''''rank=[]\n",
    "for value in df['Percentile_rank']:\n",
    "    if value<=10:\n",
    "        rank.append('0-10')\n",
    "    elif value>10 and value<=20:\n",
    "        rank.append('11-20')\n",
    "    elif value>20 and value<=30:\n",
    "        rank.append('21-30')\n",
    "    elif value>30 and value<=40:\n",
    "        rank.append('31-40')\n",
    "    elif value>40 and value<=50:\n",
    "        rank.append('41-50')\n",
    "    elif value>50 and value<=60:\n",
    "        rank.append('51-60')\n",
    "    elif value>60 and value<=70:\n",
    "        rank.append('61-70')\n",
    "    elif value>70 and value<=80:\n",
    "        rank.append('71-80')\n",
    "    elif value>80 and value<=90:\n",
    "        rank.append('81-90')    \n",
    "    else:\n",
    "        rank.append('91-100')\n",
    "df['Registration_Abuse_Score_Decile'] =rank  '''  "
   ]
  },
  {
   "cell_type": "code",
   "execution_count": 197,
   "metadata": {},
   "outputs": [],
   "source": [
    "df.to_excel('Registration_Score1.xlsx', index=False)"
   ]
  },
  {
   "cell_type": "code",
   "execution_count": 198,
   "metadata": {},
   "outputs": [
    {
     "data": {
      "text/plain": [
       "(1485, 146)"
      ]
     },
     "execution_count": 198,
     "metadata": {},
     "output_type": "execute_result"
    }
   ],
   "source": [
    "df.shape"
   ]
  },
  {
   "cell_type": "code",
   "execution_count": null,
   "metadata": {},
   "outputs": [],
   "source": []
  }
 ],
 "metadata": {
  "kernelspec": {
   "display_name": "Python 3",
   "language": "python",
   "name": "python3"
  },
  "language_info": {
   "codemirror_mode": {
    "name": "ipython",
    "version": 3
   },
   "file_extension": ".py",
   "mimetype": "text/x-python",
   "name": "python",
   "nbconvert_exporter": "python",
   "pygments_lexer": "ipython3",
   "version": "3.7.6"
  }
 },
 "nbformat": 4,
 "nbformat_minor": 4
}
